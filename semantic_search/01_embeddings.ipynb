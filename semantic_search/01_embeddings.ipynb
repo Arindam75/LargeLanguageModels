{
 "cells": [
  {
   "cell_type": "markdown",
   "metadata": {},
   "source": [
    "[Chroma DB](https://realpython.com/chromadb-vector-database/)\n",
    "\n",
    " Vector databases extend the capabilities of traditional relational databases to embeddings. However, the key distinguishing feature of a vector database is that query results aren’t an exact match to the query. Instead, using a specified similarity metric, the vector database returns embeddings that are similar to a query."
   ]
  },
  {
   "cell_type": "code",
   "execution_count": 1,
   "metadata": {},
   "outputs": [],
   "source": [
    "import chromadb\n",
    "from chromadb.utils import embedding_functions"
   ]
  },
  {
   "cell_type": "markdown",
   "metadata": {},
   "source": [
    "Though, in this example we are using the default model, but we can integrate other models as well as described [here](https://docs.trychroma.com/integrations)"
   ]
  },
  {
   "cell_type": "code",
   "execution_count": 2,
   "metadata": {},
   "outputs": [],
   "source": [
    "\n",
    "CHROMA_DATA_PATH = \"chroma_data/\"\n",
    "EMBED_MODEL = \"all-MiniLM-L6-v2\"\n",
    "COLLECTION_NAME = \"demo_docs\"\n",
    "\n",
    "client = chromadb.PersistentClient(path=CHROMA_DATA_PATH)"
   ]
  },
  {
   "cell_type": "markdown",
   "metadata": {},
   "source": [
    "A collection is the object that stores your embedded documents along with any associated metadata. If you’re familiar with relational databases, then you can think of a collection as a table. In this example, your collection is named demo_docs, it uses the \"all-MiniLM-L6-v2\" embedding function that you instantiated, and it uses the cosine similarity distance function as specified by metadata={\"hnsw:space\": \"cosine\"}."
   ]
  },
  {
   "cell_type": "code",
   "execution_count": 3,
   "metadata": {},
   "outputs": [
    {
     "name": "stderr",
     "output_type": "stream",
     "text": [
      "C:\\Users\\arind\\Documents\\LargeLanguageModels\\venv\\lib\\site-packages\\sentence_transformers\\cross_encoder\\CrossEncoder.py:11: TqdmWarning: IProgress not found. Please update jupyter and ipywidgets. See https://ipywidgets.readthedocs.io/en/stable/user_install.html\n",
      "  from tqdm.autonotebook import tqdm, trange\n",
      "C:\\Users\\arind\\Documents\\LargeLanguageModels\\venv\\lib\\site-packages\\huggingface_hub\\file_download.py:157: UserWarning: `huggingface_hub` cache-system uses symlinks by default to efficiently store duplicated files but your machine does not support them in C:\\Users\\arind\\.cache\\huggingface\\hub\\models--sentence-transformers--all-MiniLM-L6-v2. Caching files will still work but in a degraded version that might require more space on your disk. This warning can be disabled by setting the `HF_HUB_DISABLE_SYMLINKS_WARNING` environment variable. For more details, see https://huggingface.co/docs/huggingface_hub/how-to-cache#limitations.\n",
      "To support symlinks on Windows, you either need to activate Developer Mode or to run Python as an administrator. In order to see activate developer mode, see this article: https://docs.microsoft.com/en-us/windows/apps/get-started/enable-your-device-for-development\n",
      "  warnings.warn(message)\n",
      "C:\\Users\\arind\\Documents\\LargeLanguageModels\\venv\\lib\\site-packages\\huggingface_hub\\file_download.py:1132: FutureWarning: `resume_download` is deprecated and will be removed in version 1.0.0. Downloads always resume when possible. If you want to force a new download, use `force_download=True`.\n",
      "  warnings.warn(\n"
     ]
    }
   ],
   "source": [
    "embedding_func = embedding_functions.SentenceTransformerEmbeddingFunction(model_name=EMBED_MODEL)\n",
    "\n",
    "try:\n",
    "    client.delete_collection(name=COLLECTION_NAME)\n",
    "except ValueError:\n",
    "    print(\"Collection does not exist. Creating Now\")\n",
    "\n",
    "collection = client.create_collection(name=COLLECTION_NAME,\n",
    "                                      embedding_function=embedding_func,\n",
    "                                      metadata={\"hnsw:space\": \"cosine\"},\n",
    "                                     )\n"
   ]
  },
  {
   "cell_type": "markdown",
   "metadata": {},
   "source": [
    "We create some dummy documents and for each document we create a genre as metadata."
   ]
  },
  {
   "cell_type": "code",
   "execution_count": 4,
   "metadata": {},
   "outputs": [],
   "source": [
    "documents = [\n",
    "            \"The latest iPhone model comes with impressive features and a powerful camera.\",\n",
    "            \"Exploring the beautiful beaches and vibrant culture of Bali is a dream for many travelers.\",\n",
    "            \"Einstein's theory of relativity revolutionized our understanding of space and time.\",\n",
    "            \"Traditional Italian pizza is famous for its thin crust, fresh ingredients, and wood-fired ovens.\",\n",
    "            \"The American Revolution had a profound impact on the birth of the United States as a nation.\",\n",
    "            \"Regular exercise and a balanced diet are essential for maintaining good physical health.\",\n",
    "            \"Leonardo da Vinci's Mona Lisa is considered one of the most iconic paintings in art history.\",\n",
    "            \"Climate change poses a significant threat to the planet's ecosystems and biodiversity.\",\n",
    "            \"Startup companies often face challenges in securing funding and scaling their operations.\",\n",
    "            \"Beethoven's Symphony No. 9 is celebrated for its powerful choral finale, 'Ode to Joy.'\",\n",
    "            ]\n",
    "\n",
    "genres = [\n",
    "        \"technology\",\n",
    "        \"travel\",\n",
    "        \"science\",\n",
    "        \"food\",\n",
    "        \"history\",\n",
    "        \"fitness\",\n",
    "        \"art\",\n",
    "        \"climate change\",\n",
    "        \"business\",\n",
    "        \"music\"\n",
    "        ]"
   ]
  },
  {
   "cell_type": "markdown",
   "metadata": {},
   "source": [
    "When we add these documents to the collection , we also add the genre as metadata"
   ]
  },
  {
   "cell_type": "code",
   "execution_count": 5,
   "metadata": {},
   "outputs": [],
   "source": [
    "collection.add(documents=documents,\n",
    "               ids=[f\"id{i}\" for i in range(len(documents))],\n",
    "               metadatas=[{\"genre\": g} for g in genres]\n",
    "               )"
   ]
  },
  {
   "cell_type": "markdown",
   "metadata": {},
   "source": [
    "When we execute the following query , it returns the following\n",
    "\n",
    "- ids of the documents that are most similar\n",
    "- distance of the fetched document from the query\n",
    "- metadata of the fetched document\n",
    "- embeddings of the fetched document\n",
    "- the fetched doucment itself  "
   ]
  },
  {
   "cell_type": "code",
   "execution_count": 6,
   "metadata": {},
   "outputs": [
    {
     "data": {
      "text/plain": [
       "dict_keys(['ids', 'distances', 'metadatas', 'embeddings', 'documents', 'uris', 'data'])"
      ]
     },
     "execution_count": 6,
     "metadata": {},
     "output_type": "execute_result"
    }
   ],
   "source": [
    "query_results = collection.query(query_texts=[\"Find me some delicious food!\"],\n",
    "                                 n_results=1,\n",
    "                                 )\n",
    "\n",
    "query_results.keys()"
   ]
  },
  {
   "cell_type": "code",
   "execution_count": 7,
   "metadata": {},
   "outputs": [
    {
     "name": "stdout",
     "output_type": "stream",
     "text": [
      "[['id3']]\n",
      "[['Traditional Italian pizza is famous for its thin crust, fresh ingredients, and wood-fired ovens.']]\n",
      "[[{'genre': 'food'}]]\n",
      "[[0.763826391677926]]\n"
     ]
    }
   ],
   "source": [
    "print(query_results[\"ids\"])\n",
    "print(query_results[\"documents\"])\n",
    "print(query_results[\"metadatas\"])\n",
    "print(query_results[\"distances\"])"
   ]
  },
  {
   "cell_type": "markdown",
   "metadata": {},
   "source": [
    "We can add multiple queries and limit the keys that we want to be returned"
   ]
  },
  {
   "cell_type": "code",
   "execution_count": 8,
   "metadata": {},
   "outputs": [
    {
     "data": {
      "text/plain": [
       "[[\"Einstein's theory of relativity revolutionized our understanding of space and time.\",\n",
       "  'The American Revolution had a profound impact on the birth of the United States as a nation.'],\n",
       " [\"Climate change poses a significant threat to the planet's ecosystems and biodiversity.\",\n",
       "  \"Einstein's theory of relativity revolutionized our understanding of space and time.\"]]"
      ]
     },
     "execution_count": 8,
     "metadata": {},
     "output_type": "execute_result"
    }
   ],
   "source": [
    "query_results = collection.query(query_texts=[\"Teach me about history\",\n",
    "                                              \"What's going on in the world?\"],\n",
    "                                include = [\"documents\", \"distances\"],\n",
    "                                n_results = 2 )\n",
    "query_results[\"documents\"]"
   ]
  },
  {
   "cell_type": "code",
   "execution_count": 9,
   "metadata": {},
   "outputs": [
    {
     "name": "stdout",
     "output_type": "stream",
     "text": [
      "[[0.626588243350541, 0.6904192074815718], [0.8002943724796112, 0.8882107299851638]]\n"
     ]
    }
   ],
   "source": [
    "print(query_results[\"distances\"])"
   ]
  },
  {
   "cell_type": "markdown",
   "metadata": {},
   "source": [
    "We can narrow down queries based on metadata. This results querying documents which match the metadata filter.<br>\n",
    "This example can be read as , filter the collection where the \"genre\" metadata field equals \"music\"."
   ]
  },
  {
   "cell_type": "code",
   "execution_count": 10,
   "metadata": {},
   "outputs": [
    {
     "data": {
      "text/plain": [
       "{'ids': [['id9']],\n",
       " 'distances': [[0.8186328681933428]],\n",
       " 'metadatas': [[{'genre': 'music'}]],\n",
       " 'embeddings': None,\n",
       " 'documents': [[\"Beethoven's Symphony No. 9 is celebrated for its powerful choral finale, 'Ode to Joy.'\"]],\n",
       " 'uris': None,\n",
       " 'data': None}"
      ]
     },
     "execution_count": 10,
     "metadata": {},
     "output_type": "execute_result"
    }
   ],
   "source": [
    "collection.query(query_texts=[\"Teach me about music history\"],\n",
    "                 where={\"genre\": {\"$eq\": \"music\"}},\n",
    "                 n_results=1,\n",
    "                 )"
   ]
  }
 ],
 "metadata": {
  "kernelspec": {
   "display_name": "venv",
   "language": "python",
   "name": "venv"
  },
  "language_info": {
   "codemirror_mode": {
    "name": "ipython",
    "version": 3
   },
   "file_extension": ".py",
   "mimetype": "text/x-python",
   "name": "python",
   "nbconvert_exporter": "python",
   "pygments_lexer": "ipython3",
   "version": "3.10.0"
  }
 },
 "nbformat": 4,
 "nbformat_minor": 4
}
