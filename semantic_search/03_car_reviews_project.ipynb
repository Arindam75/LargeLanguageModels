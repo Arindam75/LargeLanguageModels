{
 "cells": [
  {
   "cell_type": "markdown",
   "metadata": {},
   "source": [
    "In this exercise , we will build a embeddings DB and use an LLM to interact with it. This tiem we use google GenAI embedding function. "
   ]
  },
  {
   "cell_type": "code",
   "execution_count": 45,
   "metadata": {},
   "outputs": [],
   "source": [
    "import chromadb\n",
    "from chromadb.utils import embedding_functions\n",
    "import os\n",
    "from openai import OpenAI\n",
    "from dotenv import load_dotenv\n",
    "import json"
   ]
  },
  {
   "cell_type": "markdown",
   "metadata": {},
   "source": [
    "#### Building the Embeddings DB"
   ]
  },
  {
   "cell_type": "code",
   "execution_count": 44,
   "metadata": {},
   "outputs": [],
   "source": [
    "load_dotenv()\n",
    "api_key = os.getenv(\"GOOGLE_API_KEY\")\n",
    "open_api_key = os.getenv(\"OPENAI_API_KEY\")\n",
    "embedding_func  = embedding_functions.GoogleGenerativeAiEmbeddingFunction(api_key=api_key)"
   ]
  },
  {
   "cell_type": "code",
   "execution_count": 25,
   "metadata": {},
   "outputs": [],
   "source": [
    "CHROMA_PATH = \"car_review_embeddings\"\n",
    "COLLECTION_NAME = \"review_db\""
   ]
  },
  {
   "cell_type": "code",
   "execution_count": 19,
   "metadata": {},
   "outputs": [],
   "source": [
    "\n",
    "client = chromadb.PersistentClient(CHROMA_PATH)\n",
    "\n",
    "try:\n",
    "    client.delete_collection(name=COLLECTION_NAME)\n",
    "except ValueError:\n",
    "    print(\"Collection does not exist. Creating Now\")\n",
    "\n",
    "collection = client.create_collection(name=COLLECTION_NAME,\n",
    "                                      embedding_function=embedding_func,\n",
    "                                      metadata={\"hnsw:space\": \"cosine\"},\n",
    "                                      )"
   ]
  },
  {
   "cell_type": "markdown",
   "metadata": {},
   "source": [
    "The dataset is built from the prvious exercise"
   ]
  },
  {
   "cell_type": "code",
   "execution_count": 28,
   "metadata": {},
   "outputs": [],
   "source": [
    "with open('archive/car_reviews.json', 'r') as openfile:\n",
    " \n",
    "    # Reading from json file\n",
    "    data_dict = json.load(openfile)"
   ]
  },
  {
   "cell_type": "code",
   "execution_count": 29,
   "metadata": {},
   "outputs": [],
   "source": [
    "ids = list(data_dict.keys())\n",
    "reviews = [data_dict[id]['review'] for id in ids]\n",
    "metadata = [data_dict[id]['metadata'] for id in ids]"
   ]
  },
  {
   "cell_type": "code",
   "execution_count": 32,
   "metadata": {},
   "outputs": [
    {
     "name": "stdout",
     "output_type": "stream",
     "text": [
      "review0\n",
      " On my trip to Maui I rented this van to drive to see if I would buy one in the future.    The handling and acceleration was decent for the  van with 4 kids.  It was my second day and was still driving it around and enjoying my vacation.    Was not aware of all the functions on the key controls.   Just lock and unlock.  I must have accidentally hit the open truck key and was not aware of it beenopen.  There was no beeping sound or flashing alert on the dash like my Toyota van.  I drove the car out of the car port and the trunk window got shattered because it was to high.   I believe this to be a design default.    My lost\n",
      "{'Review_Title': 'No beeping alerts', 'Rating': 1.0, 'Vehicle_Year': 2017, 'Vehicle_Model': 'Dodge'}\n"
     ]
    }
   ],
   "source": [
    "print(f\"{ids[0]}\\n{reviews[0]}\\n{metadata[0]}\")"
   ]
  },
  {
   "cell_type": "code",
   "execution_count": 22,
   "metadata": {},
   "outputs": [],
   "source": [
    "collection.add(\n",
    "    ids=ids,\n",
    "    documents=reviews,\n",
    "    metadatas=metadata,\n",
    ")"
   ]
  },
  {
   "cell_type": "markdown",
   "metadata": {},
   "source": [
    "To find the positive reviews we simply try to scan the documents with __Rating__ metadata greater than or equal to 3 "
   ]
  },
  {
   "cell_type": "code",
   "execution_count": 34,
   "metadata": {},
   "outputs": [],
   "source": [
    "question = \"\"\"\n",
    "What's the key to great customer satisfaction\n",
    "based on detailed positive reviews?\n",
    "\"\"\"\n",
    "\n",
    "good_reviews = collection.query(query_texts=[question],\n",
    "n_results=10,\n",
    "include=[\"documents\"],\n",
    "where={\"Rating\": {\"$gte\": 3}},\n",
    ")"
   ]
  },
  {
   "cell_type": "code",
   "execution_count": 35,
   "metadata": {},
   "outputs": [
    {
     "data": {
      "text/plain": [
       "[[' Very  pleased! Great deal! So far so good!',\n",
       "  ' its fun to drive',\n",
       "  ' Best power for the price. And it looks great.',\n",
       "  \" All shoppers out there, look for the best value for your dollar, don't allow unnecessary upgrades, extended warranties, you can get these items later on your own. Take time to decide what you want.\",\n",
       "  ' Car is awesome!!!',\n",
       "  ' Pure fun to drive need to drive more',\n",
       "  ' Great practical vehicle.  Love the stow and go storage under the floor and radio with hard drive for my music.  Has front and rear heated seats and USB ports.  Kids love it!',\n",
       "  ' If you purchase this car you want regreted.',\n",
       "  ' gt package is the way to go,,,plenty of power, good fuel economy',\n",
       "  ' This is the most fun I ever had driving a car........I wish they made it when I was younger !']]"
      ]
     },
     "execution_count": 35,
     "metadata": {},
     "output_type": "execute_result"
    }
   ],
   "source": [
    "good_reviews['documents']"
   ]
  },
  {
   "cell_type": "code",
   "execution_count": 36,
   "metadata": {},
   "outputs": [],
   "source": [
    "reviews_str = \",\".join(good_reviews[\"documents\"][0])"
   ]
  },
  {
   "cell_type": "markdown",
   "metadata": {},
   "source": [
    "#### Interacting with LLM\n",
    "\n",
    "Our objective is to generate a natural language response to a question based on a context , drawn from the embeddings we produced."
   ]
  },
  {
   "cell_type": "code",
   "execution_count": 50,
   "metadata": {},
   "outputs": [],
   "source": [
    "context = \"\"\"\n",
    "... You are a customer success employee at a large\n",
    "...  car dealership. Use the following car reviews\n",
    "...  to answer questions in bullet points: {}\n",
    "... \"\"\"\n",
    "\n",
    "question = \"\"\"\n",
    "... What's the key to great customer satisfaction\n",
    "...  based on detailed positive reviews?\n",
    "... \"\"\""
   ]
  },
  {
   "cell_type": "code",
   "execution_count": 51,
   "metadata": {},
   "outputs": [],
   "source": [
    "open_ai= OpenAI(\n",
    "    api_key = open_api_key,\n",
    ")\n",
    "ask_llm = open_ai.chat.completions.create(\n",
    "                            model=\"gpt-3.5-turbo\",\n",
    "                            messages=[\n",
    "                            {\"role\": \"system\", \"content\": context.format(reviews_str)},\n",
    "                            {\"role\": \"user\", \"content\": question},\n",
    "                            ],\n",
    "                            temperature=0,\n",
    "                            n=1,\n",
    "                            )\n"
   ]
  },
  {
   "cell_type": "code",
   "execution_count": 62,
   "metadata": {},
   "outputs": [
    {
     "name": "stdout",
     "output_type": "stream",
     "text": [
      "- Providing a great deal and best value for the price\n",
      "- Offering a fun driving experience\n",
      "- Avoiding unnecessary upgrades and extended warranties\n",
      "- Allowing customers time to decide what they want\n",
      "- Including practical features like stow and go storage, heated seats, and USB ports\n",
      "- Ensuring plenty of power and good fuel economy\n",
      "- Creating a fun and enjoyable driving experience\n"
     ]
    }
   ],
   "source": [
    "print(ask_llm.choices[0].message.content)"
   ]
  },
  {
   "cell_type": "code",
   "execution_count": null,
   "metadata": {},
   "outputs": [],
   "source": []
  }
 ],
 "metadata": {
  "kernelspec": {
   "display_name": "Python 3",
   "language": "python",
   "name": "python3"
  },
  "language_info": {
   "codemirror_mode": {
    "name": "ipython",
    "version": 3
   },
   "file_extension": ".py",
   "mimetype": "text/x-python",
   "name": "python",
   "nbconvert_exporter": "python",
   "pygments_lexer": "ipython3",
   "version": "3.10.0"
  }
 },
 "nbformat": 4,
 "nbformat_minor": 4
}
