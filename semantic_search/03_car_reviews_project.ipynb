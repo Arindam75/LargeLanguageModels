{
 "cells": [
  {
   "cell_type": "code",
   "execution_count": 1,
   "metadata": {},
   "outputs": [],
   "source": [
    "import chromadb\n",
    "from chromadb.utils import embedding_functions\n",
    "import os\n",
    "from dotenv import load_dotenv\n",
    "import json"
   ]
  },
  {
   "cell_type": "code",
   "execution_count": 2,
   "metadata": {},
   "outputs": [
    {
     "name": "stderr",
     "output_type": "stream",
     "text": [
      "C:\\Users\\arind\\Documents\\LargeLanguageModels\\venv\\lib\\site-packages\\tqdm\\auto.py:21: TqdmWarning: IProgress not found. Please update jupyter and ipywidgets. See https://ipywidgets.readthedocs.io/en/stable/user_install.html\n",
      "  from .autonotebook import tqdm as notebook_tqdm\n"
     ]
    }
   ],
   "source": [
    "load_dotenv()\n",
    "api_key = os.getenv(\"GOOGLE_API_KEY\")\n",
    "embedding_func  = embedding_functions.GoogleGenerativeAiEmbeddingFunction(api_key=api_key)"
   ]
  },
  {
   "cell_type": "code",
   "execution_count": 4,
   "metadata": {},
   "outputs": [],
   "source": [
    "CHROMA_PATH = \"car_review_embeddings\"\n",
    "COLLECTION_NAME = \"review_db\""
   ]
  },
  {
   "cell_type": "code",
   "execution_count": 5,
   "metadata": {},
   "outputs": [
    {
     "name": "stdout",
     "output_type": "stream",
     "text": [
      "Collection does not exist. Creating Now\n"
     ]
    }
   ],
   "source": [
    "#embedding_func = embedding_functions.SentenceTransformerEmbeddingFunction(model_name=EMBED_MODEL)\n",
    "client = chromadb.PersistentClient(CHROMA_PATH)\n",
    "\n",
    "try:\n",
    "    client.delete_collection(name=COLLECTION_NAME)\n",
    "except ValueError:\n",
    "    print(\"Collection does not exist. Creating Now\")\n",
    "\n",
    "collection = client.create_collection(name=COLLECTION_NAME,\n",
    "                                      embedding_function=embedding_func,\n",
    "                                      metadata={\"hnsw:space\": \"cosine\"},\n",
    "                                      )\n"
   ]
  },
  {
   "cell_type": "code",
   "execution_count": 6,
   "metadata": {},
   "outputs": [],
   "source": [
    "with open('archive/car_reviews.json', 'r') as openfile:\n",
    " \n",
    "    # Reading from json file\n",
    "    data_dict = json.load(openfile)"
   ]
  },
  {
   "cell_type": "code",
   "execution_count": 7,
   "metadata": {},
   "outputs": [],
   "source": [
    "ids = list(data_dict.keys())\n",
    "reviews = [data_dict[id]['review'] for id in ids]\n",
    "metadata = [data_dict[id]['metadata'] for id in ids]"
   ]
  },
  {
   "cell_type": "code",
   "execution_count": 8,
   "metadata": {},
   "outputs": [],
   "source": [
    "collection.add(\n",
    "    ids=ids,\n",
    "    documents=reviews,\n",
    "    metadatas=metadata,\n",
    ")"
   ]
  },
  {
   "cell_type": "code",
   "execution_count": 9,
   "metadata": {},
   "outputs": [],
   "source": [
    "question = \"\"\"\n",
    "What's the key to great customer satisfaction\n",
    "based on detailed positive reviews?\n",
    "\"\"\"\n",
    "\n",
    "good_reviews = collection.query(query_texts=[question],\n",
    "n_results=10,\n",
    "include=[\"documents\"],\n",
    "where={\"Rating\": {\"$gte\": 3}},\n",
    ")"
   ]
  },
  {
   "cell_type": "code",
   "execution_count": 10,
   "metadata": {},
   "outputs": [
    {
     "data": {
      "text/plain": [
       "[[' Very  pleased! Great deal! So far so good!',\n",
       "  ' its fun to drive',\n",
       "  ' Best power for the price. And it looks great.',\n",
       "  \" All shoppers out there, look for the best value for your dollar, don't allow unnecessary upgrades, extended warranties, you can get these items later on your own. Take time to decide what you want.\",\n",
       "  ' Car is awesome!!!',\n",
       "  ' Pure fun to drive need to drive more',\n",
       "  ' Great practical vehicle.  Love the stow and go storage under the floor and radio with hard drive for my music.  Has front and rear heated seats and USB ports.  Kids love it!',\n",
       "  ' If you purchase this car you want regreted.',\n",
       "  ' gt package is the way to go,,,plenty of power, good fuel economy',\n",
       "  ' This is the most fun I ever had driving a car........I wish they made it when I was younger !']]"
      ]
     },
     "execution_count": 10,
     "metadata": {},
     "output_type": "execute_result"
    }
   ],
   "source": [
    "good_reviews['documents']"
   ]
  },
  {
   "cell_type": "code",
   "execution_count": 11,
   "metadata": {},
   "outputs": [],
   "source": [
    "reviews_str = \",\".join(good_reviews[\"documents\"][0])"
   ]
  },
  {
   "cell_type": "code",
   "execution_count": 13,
   "metadata": {},
   "outputs": [
    {
     "data": {
      "text/plain": [
       "'\\ngood_review_summaries = openai.ChatCompletion.create(\\n                            model=\"gpt-3.5-turbo\",\\n                            messages=[\\n                            {\"role\": \"system\", \"content\": context.format(reviews_str)},\\n                            {\"role\": \"user\", \"content\": question},\\n                            ],\\n                            temperature=0,\\n                            n=1,\\n                            )\\n'"
      ]
     },
     "execution_count": 13,
     "metadata": {},
     "output_type": "execute_result"
    }
   ],
   "source": [
    "#TODO\n",
    "'''\n",
    "good_review_summaries = openai.ChatCompletion.create(\n",
    "                            model=\"gpt-3.5-turbo\",\n",
    "                            messages=[\n",
    "                            {\"role\": \"system\", \"content\": context.format(reviews_str)},\n",
    "                            {\"role\": \"user\", \"content\": question},\n",
    "                            ],\n",
    "                            temperature=0,\n",
    "                            n=1,\n",
    "                            )\n",
    "'''"
   ]
  },
  {
   "cell_type": "code",
   "execution_count": null,
   "metadata": {},
   "outputs": [],
   "source": []
  }
 ],
 "metadata": {
  "kernelspec": {
   "display_name": "venv",
   "language": "python",
   "name": "venv"
  },
  "language_info": {
   "codemirror_mode": {
    "name": "ipython",
    "version": 3
   },
   "file_extension": ".py",
   "mimetype": "text/x-python",
   "name": "python",
   "nbconvert_exporter": "python",
   "pygments_lexer": "ipython3",
   "version": "3.10.0"
  }
 },
 "nbformat": 4,
 "nbformat_minor": 4
}
