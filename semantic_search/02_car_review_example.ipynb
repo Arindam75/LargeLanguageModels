{
 "cells": [
  {
   "cell_type": "code",
   "execution_count": 2,
   "metadata": {},
   "outputs": [],
   "source": [
    "from tqdm import tqdm\n",
    "\n",
    "import polars as pl\n",
    "import chromadb\n",
    "from chromadb.utils import embedding_functions\n",
    "#from more_itertools import batched\n",
    "\n",
    "DATA_PATH = \"archive/*.csv\""
   ]
  },
  {
   "cell_type": "code",
   "execution_count": 3,
   "metadata": {},
   "outputs": [
    {
     "name": "stderr",
     "output_type": "stream",
     "text": [
      "C:\\Users\\arind\\Documents\\LargeLanguageModels\\venv\\lib\\site-packages\\tqdm\\auto.py:21: TqdmWarning: IProgress not found. Please update jupyter and ipywidgets. See https://ipywidgets.readthedocs.io/en/stable/user_install.html\n",
      "  from .autonotebook import tqdm as notebook_tqdm\n"
     ]
    }
   ],
   "source": [
    "import os\n",
    "from dotenv import load_dotenv\n",
    "import json\n",
    "\n",
    "load_dotenv()\n",
    "api_key = os.getenv(\"GOOGLE_API_KEY\")\n",
    "\n",
    "google_ef  = embedding_functions.GoogleGenerativeAiEmbeddingFunction(api_key=api_key)"
   ]
  },
  {
   "cell_type": "code",
   "execution_count": 4,
   "metadata": {},
   "outputs": [
    {
     "name": "stderr",
     "output_type": "stream",
     "text": [
      "C:\\Users\\arind\\AppData\\Local\\Temp\\ipykernel_18900\\3709053320.py:13: DeprecationWarning: The argument `dtypes` for `scan_csv` is deprecated. It has been renamed to `schema_overrides`.\n",
      "  car_reviews = pl.scan_csv(DATA_PATH, dtypes=dtypes)\n"
     ]
    }
   ],
   "source": [
    "vehicle_years = [2017]\n",
    "dtypes = {\n",
    "        \"\": pl.Int64,\n",
    "        \"Review_Date\": pl.Utf8,\n",
    "        \"Author_Name\": pl.Utf8,\n",
    "        \"Vehicle_Title\": pl.Utf8,\n",
    "        \"Review_Title\": pl.Utf8,\n",
    "        \"Review\": pl.Utf8,\n",
    "        \"Rating\": pl.Float64,\n",
    "    }\n",
    "\n",
    "# Scan the car reviews dataset(s)\n",
    "car_reviews = pl.scan_csv(DATA_PATH, dtypes=dtypes)\n",
    "\n",
    "# Extract the vehicle title and year as new columns\n",
    "# Filter on selected years\n",
    "car_review_db_data = (\n",
    "    car_reviews.with_columns(\n",
    "        [\n",
    "            (\n",
    "                pl.col(\"Vehicle_Title\").str.split(\n",
    "                    by=\" \").list.get(0).cast(pl.Int64)\n",
    "            ).alias(\"Vehicle_Year\"),\n",
    "            (pl.col(\"Vehicle_Title\").str.split(by=\" \").list.get(1)).alias(\n",
    "                \"Vehicle_Model\"\n",
    "            ),\n",
    "        ]\n",
    "    )\n",
    "    .filter(pl.col(\"Vehicle_Year\").is_in(vehicle_years))\n",
    "    .select([\"Review_Title\", \"Review\", \"Rating\", \"Vehicle_Year\", \"Vehicle_Model\"])\n",
    "    .sort([\"Vehicle_Model\", \"Rating\"])\n",
    "    .collect()\n",
    ")\n",
    "\n",
    "# Create ids, documents, and metadatas data in the format chromadb expects\n",
    "ids = [f\"review{i}\" for i in range(car_review_db_data.shape[0])]\n",
    "documents = car_review_db_data[\"Review\"].to_list()\n",
    "metadatas = car_review_db_data.drop(\"Review\").to_dicts()\n"
   ]
  },
  {
   "cell_type": "code",
   "execution_count": 5,
   "metadata": {},
   "outputs": [
    {
     "data": {
      "text/plain": [
       "{'Review_Title': 'No beeping alerts',\n",
       " 'Rating': 1.0,\n",
       " 'Vehicle_Year': 2017,\n",
       " 'Vehicle_Model': 'Dodge'}"
      ]
     },
     "execution_count": 5,
     "metadata": {},
     "output_type": "execute_result"
    }
   ],
   "source": [
    "metadatas[0]"
   ]
  },
  {
   "cell_type": "code",
   "execution_count": 6,
   "metadata": {},
   "outputs": [],
   "source": [
    "json_data = {i:{\"metadata\":k,\"review\":j} for i,j,k in zip(ids, documents, metadatas)}"
   ]
  },
  {
   "cell_type": "code",
   "execution_count": 7,
   "metadata": {},
   "outputs": [],
   "source": [
    "json_object = json.dumps(json_data, indent=4)\n",
    " \n",
    "# Writing to sample.json\n",
    "with open(\"archive/car_reviews.json\", \"w\") as outfile:\n",
    "    outfile.write(json_object)"
   ]
  },
  {
   "cell_type": "code",
   "execution_count": 8,
   "metadata": {},
   "outputs": [],
   "source": [
    "with open(\"archive/car_reviews.json\", 'r') as openfile:\n",
    " \n",
    "    # Reading from json file\n",
    "    json_object = json.load(openfile)"
   ]
  },
  {
   "cell_type": "code",
   "execution_count": 9,
   "metadata": {},
   "outputs": [
    {
     "data": {
      "text/plain": [
       "dict_keys(['review0', 'review1', 'review2', 'review3', 'review4', 'review5', 'review6', 'review7', 'review8', 'review9', 'review10', 'review11', 'review12', 'review13', 'review14', 'review15', 'review16', 'review17', 'review18', 'review19', 'review20', 'review21', 'review22', 'review23', 'review24', 'review25', 'review26', 'review27', 'review28', 'review29', 'review30', 'review31', 'review32', 'review33', 'review34', 'review35', 'review36', 'review37', 'review38', 'review39', 'review40', 'review41', 'review42', 'review43', 'review44', 'review45', 'review46', 'review47', 'review48', 'review49', 'review50'])"
      ]
     },
     "execution_count": 9,
     "metadata": {},
     "output_type": "execute_result"
    }
   ],
   "source": [
    "json_object.keys()"
   ]
  },
  {
   "cell_type": "code",
   "execution_count": 10,
   "metadata": {},
   "outputs": [],
   "source": [
    "CHROMA_PATH = \"car_review_embeddings\"\n",
    "EMBEDDING_FUNC_NAME = \"multi-qa-MiniLM-L6-cos-v1\"\n",
    "COLLECTION_NAME = \"car_reviews\""
   ]
  },
  {
   "cell_type": "code",
   "execution_count": 11,
   "metadata": {},
   "outputs": [
    {
     "name": "stderr",
     "output_type": "stream",
     "text": [
      "C:\\Users\\arind\\Documents\\LargeLanguageModels\\venv\\lib\\site-packages\\huggingface_hub\\file_download.py:1132: FutureWarning: `resume_download` is deprecated and will be removed in version 1.0.0. Downloads always resume when possible. If you want to force a new download, use `force_download=True`.\n",
      "  warnings.warn(\n"
     ]
    }
   ],
   "source": [
    "chroma_client = chromadb.PersistentClient(CHROMA_PATH)\n",
    "\n",
    "\n",
    "embedding_func = embedding_functions.SentenceTransformerEmbeddingFunction(\n",
    "    model_name=EMBEDDING_FUNC_NAME\n",
    ")\n",
    "\n",
    "collection = chroma_client.create_collection(\n",
    "    name=COLLECTION_NAME,\n",
    "    embedding_function=embedding_func,\n",
    "    metadata={\"hnsw:space\": \"cosine\"},\n",
    ")\n",
    "\n",
    "document_indices = list(range(len(documents)))\n",
    "\n",
    "\n",
    "collection.add(\n",
    "    ids=ids,\n",
    "    documents=documents,\n",
    "    metadatas=metadatas,\n",
    ")"
   ]
  },
  {
   "cell_type": "code",
   "execution_count": null,
   "metadata": {},
   "outputs": [],
   "source": []
  }
 ],
 "metadata": {
  "kernelspec": {
   "display_name": "venv",
   "language": "python",
   "name": "venv"
  },
  "language_info": {
   "codemirror_mode": {
    "name": "ipython",
    "version": 3
   },
   "file_extension": ".py",
   "mimetype": "text/x-python",
   "name": "python",
   "nbconvert_exporter": "python",
   "pygments_lexer": "ipython3",
   "version": "3.10.0"
  }
 },
 "nbformat": 4,
 "nbformat_minor": 4
}
