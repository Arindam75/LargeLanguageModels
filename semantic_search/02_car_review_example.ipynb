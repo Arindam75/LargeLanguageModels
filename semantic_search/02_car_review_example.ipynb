{
 "cells": [
  {
   "cell_type": "markdown",
   "metadata": {},
   "source": [
    "This is a simple illustration of how we can build a db out of embeddings from a bunch of documents for querying later. "
   ]
  },
  {
   "cell_type": "code",
   "execution_count": 12,
   "metadata": {},
   "outputs": [],
   "source": [
    "from tqdm import tqdm\n",
    "\n",
    "import polars as pl\n",
    "import chromadb\n",
    "from chromadb.utils import embedding_functions\n",
    "#from more_itertools import batched\n",
    "\n",
    "DATA_PATH = \"archive/*.csv\""
   ]
  },
  {
   "cell_type": "code",
   "execution_count": 13,
   "metadata": {},
   "outputs": [],
   "source": [
    "import os\n",
    "from dotenv import load_dotenv\n",
    "import json\n",
    "\n",
    "load_dotenv()\n",
    "api_key = os.getenv(\"GOOGLE_API_KEY\")\n",
    "\n",
    "#google_ef  = embedding_functions.GoogleGenerativeAiEmbeddingFunction(api_key=api_key)"
   ]
  },
  {
   "cell_type": "markdown",
   "metadata": {},
   "source": [
    "### Building the Dataset for Embedding\n",
    "\n",
    "We need a list of:\n",
    "- ids : we can use as a unique ID for each document\n",
    "- documents : This contains the actual cotent, from which we can build embedding\n",
    "- metadata : a lits of dictionaries , where we can have keys that can be used to narrow down our queries  "
   ]
  },
  {
   "cell_type": "code",
   "execution_count": 14,
   "metadata": {},
   "outputs": [
    {
     "name": "stderr",
     "output_type": "stream",
     "text": [
      "C:\\Users\\arind\\AppData\\Local\\Temp\\ipykernel_20196\\3709053320.py:13: DeprecationWarning: The argument `dtypes` for `scan_csv` is deprecated. It has been renamed to `schema_overrides`.\n",
      "  car_reviews = pl.scan_csv(DATA_PATH, dtypes=dtypes)\n"
     ]
    }
   ],
   "source": [
    "vehicle_years = [2017]\n",
    "dtypes = {\n",
    "        \"\": pl.Int64,\n",
    "        \"Review_Date\": pl.Utf8,\n",
    "        \"Author_Name\": pl.Utf8,\n",
    "        \"Vehicle_Title\": pl.Utf8,\n",
    "        \"Review_Title\": pl.Utf8,\n",
    "        \"Review\": pl.Utf8,\n",
    "        \"Rating\": pl.Float64,\n",
    "    }\n",
    "\n",
    "# Scan the car reviews dataset(s)\n",
    "car_reviews = pl.scan_csv(DATA_PATH, dtypes=dtypes)\n",
    "\n",
    "# Extract the vehicle title and year as new columns\n",
    "# Filter on selected years\n",
    "car_review_db_data = (\n",
    "    car_reviews.with_columns(\n",
    "        [\n",
    "            (\n",
    "                pl.col(\"Vehicle_Title\").str.split(\n",
    "                    by=\" \").list.get(0).cast(pl.Int64)\n",
    "            ).alias(\"Vehicle_Year\"),\n",
    "            (pl.col(\"Vehicle_Title\").str.split(by=\" \").list.get(1)).alias(\n",
    "                \"Vehicle_Model\"\n",
    "            ),\n",
    "        ]\n",
    "    )\n",
    "    .filter(pl.col(\"Vehicle_Year\").is_in(vehicle_years))\n",
    "    .select([\"Review_Title\", \"Review\", \"Rating\", \"Vehicle_Year\", \"Vehicle_Model\"])\n",
    "    .sort([\"Vehicle_Model\", \"Rating\"])\n",
    "    .collect()\n",
    ")\n",
    "\n",
    "# Create ids, documents, and metadatas data in the format chromadb expects\n",
    "ids = [f\"review{i}\" for i in range(car_review_db_data.shape[0])]\n",
    "documents = car_review_db_data[\"Review\"].to_list()\n",
    "metadatas = car_review_db_data.drop(\"Review\").to_dicts()\n"
   ]
  },
  {
   "cell_type": "markdown",
   "metadata": {},
   "source": [
    "We can print the first element of the dataset"
   ]
  },
  {
   "cell_type": "code",
   "execution_count": 15,
   "metadata": {},
   "outputs": [
    {
     "name": "stdout",
     "output_type": "stream",
     "text": [
      "review0\n",
      " On my trip to Maui I rented this van to drive to see if I would buy one in the future.    The handling and acceleration was decent for the  van with 4 kids.  It was my second day and was still driving it around and enjoying my vacation.    Was not aware of all the functions on the key controls.   Just lock and unlock.  I must have accidentally hit the open truck key and was not aware of it beenopen.  There was no beeping sound or flashing alert on the dash like my Toyota van.  I drove the car out of the car port and the trunk window got shattered because it was to high.   I believe this to be a design default.    My lost\n",
      "{'Review_Title': 'No beeping alerts', 'Rating': 1.0, 'Vehicle_Year': 2017, 'Vehicle_Model': 'Dodge'}\n"
     ]
    }
   ],
   "source": [
    "print(f\"{ids[0]}\\n{documents[0]}\\n{metadatas[0]}\")"
   ]
  },
  {
   "cell_type": "code",
   "execution_count": 16,
   "metadata": {},
   "outputs": [],
   "source": [
    "#We save the data in the format chromadb expects for the another project\n",
    "\n",
    "json_data = {i:{\"metadata\":k,\"review\":j} for i,j,k in zip(ids, documents, metadatas)}\n",
    "\n",
    "json_object = json.dumps(json_data, indent=4)\n",
    " \n",
    "# Writing to sample.json\n",
    "with open(\"archive/car_reviews.json\", \"w\") as outfile:\n",
    "    outfile.write(json_object)"
   ]
  },
  {
   "cell_type": "markdown",
   "metadata": {},
   "source": [
    "#### Building the DB\n",
    "\n",
    "We can now instantiate the Chroma Client\n",
    "\n",
    "- This will take a path\n",
    "- A name\n",
    "- An embedding function\n",
    "    - For this exercise we use a language model internal to chromaDB\n",
    "    - However we can use Google or OpenAI as well\n",
    "\n",
    "After instantiating we just feed the dataset and the collection is created   "
   ]
  },
  {
   "cell_type": "code",
   "execution_count": 19,
   "metadata": {},
   "outputs": [],
   "source": [
    "CHROMA_PATH = \"car_review_embeddings\"\n",
    "EMBEDDING_FUNC_NAME = \"multi-qa-MiniLM-L6-cos-v1\"\n",
    "COLLECTION_NAME = \"car_reviews\""
   ]
  },
  {
   "cell_type": "code",
   "execution_count": 20,
   "metadata": {},
   "outputs": [],
   "source": [
    "chroma_client = chromadb.PersistentClient(CHROMA_PATH)\n",
    "\n",
    "embedding_func = embedding_functions.SentenceTransformerEmbeddingFunction(\n",
    "    model_name=EMBEDDING_FUNC_NAME\n",
    ")\n",
    "\n",
    "try:\n",
    "    chroma_client.delete_collection(name=COLLECTION_NAME)\n",
    "except ValueError:\n",
    "    print(\"Collection does not exist. Creating Now\")\n",
    "\n",
    "collection = chroma_client.create_collection(\n",
    "    name=COLLECTION_NAME,\n",
    "    embedding_function=embedding_func,\n",
    "    metadata={\"hnsw:space\": \"cosine\"},\n",
    ")\n",
    "\n",
    "document_indices = list(range(len(documents)))\n",
    "\n",
    "collection.add(\n",
    "    ids=ids,\n",
    "    documents=documents,\n",
    "    metadatas=metadatas,\n",
    ")"
   ]
  },
  {
   "cell_type": "code",
   "execution_count": null,
   "metadata": {},
   "outputs": [],
   "source": []
  }
 ],
 "metadata": {
  "kernelspec": {
   "display_name": "Python 3",
   "language": "python",
   "name": "python3"
  },
  "language_info": {
   "codemirror_mode": {
    "name": "ipython",
    "version": 3
   },
   "file_extension": ".py",
   "mimetype": "text/x-python",
   "name": "python",
   "nbconvert_exporter": "python",
   "pygments_lexer": "ipython3",
   "version": "3.10.0"
  }
 },
 "nbformat": 4,
 "nbformat_minor": 4
}
