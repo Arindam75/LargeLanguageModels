{
 "cells": [
  {
   "cell_type": "code",
   "execution_count": 10,
   "id": "0f7a5218-faaa-4594-b299-8ab0d2127330",
   "metadata": {},
   "outputs": [],
   "source": [
    "from langchain.text_splitter import RecursiveCharacterTextSplitter\n",
    "\n",
    "from langchain.embeddings.huggingface import HuggingFaceEmbeddings\n",
    "#from langchain.vectorstores import FAISS\n",
    "from langchain_community.vectorstores import FAISS\n",
    "\n",
    "from langchain.document_loaders import PyPDFLoader\n",
    "from glob import glob\n",
    "from tqdm import tqdm\n",
    "\n",
    "import yaml"
   ]
  },
  {
   "cell_type": "markdown",
   "id": "e9599396-fabf-47e1-9d76-e73fa6356383",
   "metadata": {},
   "source": [
    "## Load Documents and Build the Vector Store"
   ]
  },
  {
   "cell_type": "code",
   "execution_count": 11,
   "id": "7a3e2e81-72f2-4468-897b-361c9d6e988c",
   "metadata": {},
   "outputs": [],
   "source": [
    "def load_config():\n",
    "    with open(\"./config/config.yaml\", \"r\") as file:\n",
    "        config = yaml.safe_load(file)\n",
    "    return config\n",
    "\n",
    "config = load_config()\n",
    "\n",
    "def load_documents(directory : str):\n",
    "    \"\"\"Loads all documents from a directory and returns a list of Document objects\n",
    "    args: directory format = directory/\n",
    "    \"\"\"\n",
    "    text_splitter = RecursiveCharacterTextSplitter(chunk_size = config[\"TextSplitter\"][\"chunk_size\"], \n",
    "                                                   chunk_overlap = config[\"TextSplitter\"][\"chunk_overlap\"])\n",
    "    documents = []\n",
    "    for item_path in tqdm(glob(directory + \"*.pdf\")):\n",
    "        loader = PyPDFLoader(item_path)\n",
    "        documents.extend(loader.load_and_split(text_splitter=text_splitter))\n",
    "\n",
    "    return documents\n",
    "\n",
    "def load_embeddings(model_name=config[\"embeddings\"][\"name\"],\n",
    "                    model_kwargs = {'device': config[\"embeddings\"][\"device\"]}):\n",
    "    return HuggingFaceEmbeddings(model_name=model_name, model_kwargs = model_kwargs)\n",
    "\n",
    "\n",
    "def load_db(embedding_function, save_path=config[\"faiss_indexstore\"][\"save_path\"], index_name=config[\"faiss_indexstore\"][\"index_name\"]):\n",
    "    db = FAISS.load_local(folder_path=save_path, index_name=index_name, embeddings = embedding_function, allow_dangerous_deserialization=True)\n",
    "    return db\n",
    "\n",
    "def save_db(db, save_path=config[\"faiss_indexstore\"][\"save_path\"], index_name=config[\"faiss_indexstore\"][\"index_name\"]):\n",
    "    db.save_local(save_path, index_name)\n",
    "    print(\"Saved db to \" + save_path + index_name)"
   ]
  },
  {
   "cell_type": "code",
   "execution_count": 12,
   "id": "36d2a889-1696-4d72-8262-a2b6cf40c6b3",
   "metadata": {},
   "outputs": [
    {
     "name": "stderr",
     "output_type": "stream",
     "text": [
      "100%|██████████| 3/3 [00:06<00:00,  2.19s/it]\n"
     ]
    }
   ],
   "source": [
    "documents = load_documents(\"data/\")"
   ]
  },
  {
   "cell_type": "code",
   "execution_count": 13,
   "id": "5680ca17-0cb0-462c-8a0a-09e3ead7837a",
   "metadata": {},
   "outputs": [],
   "source": [
    "embedding_function = load_embeddings()"
   ]
  },
  {
   "cell_type": "code",
   "execution_count": 14,
   "id": "03d76542-51bd-4d1e-9aeb-11b1eafa3c79",
   "metadata": {},
   "outputs": [],
   "source": [
    "db = FAISS.from_documents(documents, embedding_function)"
   ]
  },
  {
   "cell_type": "code",
   "execution_count": 15,
   "id": "70857d79-d091-485b-8e4a-889f61a47024",
   "metadata": {},
   "outputs": [],
   "source": [
    "db.save_local(\"faiss_db/\",\"books\")"
   ]
  },
  {
   "cell_type": "code",
   "execution_count": 16,
   "id": "ada85dbe-b65d-4e1f-bf12-a04822952218",
   "metadata": {},
   "outputs": [
    {
     "name": "stdout",
     "output_type": "stream",
     "text": [
      "[Document(page_content='will soon follow, given the country’s  \\nlarge manufacturing base and 5G  \\nspectrum availability.\\n4G is currently the dominant technology, \\nand is expected to account for 81 percent  \\nof all subscriptions at the end of 2023. \\nMobile subscription growth has flattened \\nand is expected to be virtually zero in the \\ncoming years. However, the migration from \\n2G/3G to 4G continues to look strong up  \\nto 2024. From 2025, 5G is expected to be \\nthe only growing subscription type.\\nDuring the forecast period, there will \\ncontinue to be a significant decline in 3G \\nsubscriptions, from 14 percent of mobile \\nsubscriptions to just 1 percent.\\nSouth East Asia and Oceania\\n5G subscriptions are forecast to reach \\naround 550 million in the region by the \\nend of the forecast period. After the initial \\ninvestment in 5G infrastructure across the \\nSouth East Asian markets of Thailand, \\nthe Philippines, Singapore and Malaysia, \\nthe focus has now shifted to diversifying \\nservice offerings for both consumers', metadata={'source': 'data\\\\ericsson-mobility-report-november-2023.pdf', 'page': 6}), Document(page_content='subscriptions to just 1 percent.\\nSouth East Asia and Oceania\\nService providers are continuing to expand \\ntheir 5G population coverage. By the end  \\nof 2022, 5G was available to around  \\n50 percent of the population in Malaysia \\nand 66 percent in the Philippines. At the \\nsame time, more than 80 percent of the \\npopulation in Australia and Thailand had \\naccess to the technology, and Singapore \\nachieved more than 95 percent coverage \\nby mid-2022.2 Leading service providers \\nin Indonesia that launched commercial \\n5G services using their existing spectrum \\nholdings are awaiting the release of \\nnew 5G spectrum bands to expand their \\nnetworks. Meanwhile, service providers  \\nin Vietnam are making good progress  \\nwith trials as they await spectrum \\navailability. 5G subscriptions are  \\nforecast to reach around 430 million  \\nby the end of the forecast period.  This is an adjustment to the previous \\nforecast of 620 million, impacted by \\ndelayed spectrum auctions in several \\ncountries and slower-than-expected growth.', metadata={'source': 'data\\\\ericsson-mobility-report-june-2023.pdf', 'page': 6}), Document(page_content='subscriptions in the region are estimated  \\nto grow to 1.2 billion in 2028.North East Asia\\nService providers have been investing \\nin 5G to improve coverage and capacity, \\nwith a focus on indoor coverage. Strong \\n5G subscription growth continued in 2022, \\nadding around 240 million subscriptions. \\n5G is the only growing subscription type \\nand is expected to reach 1.1 billion in \\nthe region at the end of 2024. The rapid \\ngrowth of 5G subscriptions, supported by \\nthe availability of more 5G device models, \\nhas positively impacted service providers’ \\nfinancial performance. Major service \\nproviders in leading 5G markets, such as \\nmainland China, Taiwan and South Korea, \\nhave reported a positive impact of 5G \\nsubscribers on service revenues and ARPU.\\nWestern Europe\\n4G is widely deployed and has had the \\nhighest penetration of all regions at  \\n79 percent at the end of 2022.  \\n5G subscription growth was strong  \\nduring the year, rising from 32 million in \\n2021 to 69 million at the end of 2022.', metadata={'source': 'data\\\\ericsson-mobility-report-june-2023.pdf', 'page': 6}), Document(page_content='South East Asian markets of Thailand, \\nthe Philippines, Singapore and Malaysia, \\nthe focus has now shifted to diversifying \\nservice offerings for both consumers \\nand enterprises. Enhancing customer North East Asia\\nService providers in the region have been \\ninvesting in 5G to improve coverage and \\ncapacity, with a focus on indoor coverage. \\nStrong 5G subscription growth continued  \\nin 2023, adding an estimated 244 million \\nsubscriptions during the year to total  \\n890 million. 5G is the only growing \\nsubscription type and is expected to reach \\n1.8 billion at the end of 2029. The rapid \\ngrowth of 5G subscriptions, supported by \\nthe availability of more 5G device models, \\nhas positively impacted service providers’ \\nfinancial performance. Major service \\nproviders in leading 5G markets, such as \\nmainland China, Taiwan and South Korea, \\nhave reported the positive impact of 5G \\nsubscribers on service revenues and ARPU. \\nThere is a strong interest in new 5G IoT \\nsolutions based on reduced capability', metadata={'source': 'data\\\\ericsson-mobility-report-november-2023.pdf', 'page': 6})]\n"
     ]
    }
   ],
   "source": [
    "print(db.similarity_search(\"5G Subscribers in Asia\"))"
   ]
  },
  {
   "cell_type": "markdown",
   "id": "4f2df058-0168-4462-a94a-dacaee3a81ed",
   "metadata": {},
   "source": [
    "## Build The QA Retreiver"
   ]
  },
  {
   "cell_type": "code",
   "execution_count": 17,
   "id": "08f995de-780c-4c62-a5a6-a30f8a1a3db9",
   "metadata": {},
   "outputs": [],
   "source": [
    "import sys, os\n",
    "from langchain.chains import RetrievalQA\n",
    "from langchain.chat_models import ChatOpenAI\n",
    "sys.path.append(\"../../Langchain\")\n",
    "from constants import openai_key\n",
    "\n",
    "os.environ['OPENAI_API_KEY'] = openai_key"
   ]
  },
  {
   "cell_type": "code",
   "execution_count": 18,
   "id": "e9076a9e-24f7-4acc-a04b-d3c49335d944",
   "metadata": {},
   "outputs": [
    {
     "name": "stderr",
     "output_type": "stream",
     "text": [
      "c:\\Users\\arind\\Documents\\LargeLanguageModels\\venv\\lib\\site-packages\\langchain_core\\_api\\deprecation.py:119: LangChainDeprecationWarning: The class `ChatOpenAI` was deprecated in LangChain 0.0.10 and will be removed in 0.3.0. An updated version of the class exists in the langchain-openai package and should be used instead. To use it run `pip install -U langchain-openai` and import as `from langchain_openai import ChatOpenAI`.\n",
      "  warn_deprecated(\n"
     ]
    }
   ],
   "source": [
    "db = load_db(embedding_function)\n",
    "qa = RetrievalQA.from_llm(llm = ChatOpenAI(temperature=0.1),\n",
    "                          retriever = db.as_retriever(kwargs={\"k\": 7}),\n",
    "                          return_source_documents = False)"
   ]
  },
  {
   "cell_type": "code",
   "execution_count": 19,
   "id": "c4f0f823-f7e1-4cb5-b263-7b045e155972",
   "metadata": {},
   "outputs": [
    {
     "name": "stderr",
     "output_type": "stream",
     "text": [
      "c:\\Users\\arind\\Documents\\LargeLanguageModels\\venv\\lib\\site-packages\\langchain_core\\_api\\deprecation.py:119: LangChainDeprecationWarning: The method `Chain.__call__` was deprecated in langchain 0.1.0 and will be removed in 0.3.0. Use invoke instead.\n",
      "  warn_deprecated(\n"
     ]
    },
    {
     "name": "stdout",
     "output_type": "stream",
     "text": [
      "The main factors fueling subscriber growth include the increasing adoption of 5G technology, the migration of 3G subscribers to 4G and 5G networks, the push for mobile financial services in certain regions, the growth of Fixed Wireless Access (FWA) solutions, and the overall expansion of smartphone subscriptions.\n"
     ]
    }
   ],
   "source": [
    "question = \"What are the main factors fuelling subscriber growth \"\n",
    "print(qa(question)['result'])"
   ]
  }
 ],
 "metadata": {
  "kernelspec": {
   "display_name": "Python 3",
   "language": "python",
   "name": "python3"
  },
  "language_info": {
   "codemirror_mode": {
    "name": "ipython",
    "version": 3
   },
   "file_extension": ".py",
   "mimetype": "text/x-python",
   "name": "python",
   "nbconvert_exporter": "python",
   "pygments_lexer": "ipython3",
   "version": "3.10.0"
  }
 },
 "nbformat": 4,
 "nbformat_minor": 5
}
