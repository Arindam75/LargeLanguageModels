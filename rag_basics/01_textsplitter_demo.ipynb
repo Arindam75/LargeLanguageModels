{
 "cells": [
  {
   "cell_type": "markdown",
   "id": "9c66a961-e8d3-45b0-93f2-5a777785fab8",
   "metadata": {},
   "source": [
    "This is a basic text_splitter from Langchain<br>\n",
    "- Create an TS object\n",
    "- Feed in the text as list\n",
    "- Create Documents"
   ]
  },
  {
   "cell_type": "code",
   "execution_count": 1,
   "id": "3b8ec0e7-e6a2-45e9-a156-b6177828660e",
   "metadata": {},
   "outputs": [],
   "source": [
    "from langchain.text_splitter import RecursiveCharacterTextSplitter"
   ]
  },
  {
   "cell_type": "code",
   "execution_count": 14,
   "id": "ca8ca8ed-16af-438b-8bbe-ac1496012588",
   "metadata": {},
   "outputs": [],
   "source": [
    "text_splitter = RecursiveCharacterTextSplitter(\n",
    "    # Set a really small chunk size, just to show.\n",
    "    chunk_size = 100,#This is number of characters\n",
    "    chunk_overlap  = 20,\n",
    "    length_function = len,\n",
    "    is_separator_regex = False,\n",
    ")"
   ]
  },
  {
   "cell_type": "code",
   "execution_count": 15,
   "id": "4165cbb2-f735-4677-823e-dd74a74b2ef2",
   "metadata": {},
   "outputs": [],
   "source": [
    "my_text = \"\"\"In probability theory and statistics, the Poisson distribution is a discrete probability distribution that expresses the probability of a given number of events occurring in a fixed interval of time or space if these events occur with a known constant mean rate and independently of the time since the last event.[1] It is named after French mathematician Siméon Denis Poisson (/ˈpwɑːsɒn/; French pronunciation: [pwasɔ̃]). The Poisson distribution can also be used for the number of events in other specified interval types such as distance, area, or volume. It plays an important role for discrete-stable distributions.\\n\n",
    "For instance, a call center receives an average of 180 calls per hour, 24 hours a day. The calls are independent; receiving one does not change the probability of when the next one will arrive. The number of calls received during any minute has a Poisson probability distribution with mean 3. The most likely number of calls received are 2 and 3, but 1 and 4 are also likely. There is a small probability of it being as low as zero and a very small probability it could be 10 or even higher.\n",
    "Another example is the number of decay events that occur from a radioactive source during a defined observation period.\"\"\""
   ]
  },
  {
   "cell_type": "code",
   "execution_count": 16,
   "id": "d93b343d-f102-4650-a365-45a868286a39",
   "metadata": {},
   "outputs": [
    {
     "data": {
      "text/plain": [
       "'In probability theory and statistics, the Poisson distribution is a discrete probability distribution that expresses the probability of a given number of events occurring in a fixed interval of time or space if these events occur with a known constant mean rate and independently of the time since the last event.[1] It is named after French mathematician Siméon Denis Poisson (/ˈpwɑːsɒn/; French pronunciation: [pwasɔ̃]). The Poisson distribution can also be used for the number of events in other specified interval types such as distance, area, or volume. It plays an important role for discrete-stable distributions.\\n\\nFor instance, a call center receives an average of 180 calls per hour, 24 hours a day. The calls are independent; receiving one does not change the probability of when the next one will arrive. The number of calls received during any minute has a Poisson probability distribution with mean 3. The most likely number of calls received are 2 and 3, but 1 and 4 are also likely. There is a small probability of it being as low as zero and a very small probability it could be 10 or even higher.\\nAnother example is the number of decay events that occur from a radioactive source during a defined observation period.'"
      ]
     },
     "execution_count": 16,
     "metadata": {},
     "output_type": "execute_result"
    }
   ],
   "source": [
    "my_text"
   ]
  },
  {
   "cell_type": "code",
   "execution_count": 17,
   "id": "4e7be753-4978-41fc-b475-4f652c35fc5d",
   "metadata": {},
   "outputs": [],
   "source": [
    "texts = text_splitter.create_documents([my_text])"
   ]
  },
  {
   "cell_type": "markdown",
   "id": "63f5b214-4cc9-4614-a03d-92c6df9d8acc",
   "metadata": {},
   "source": [
    "Note the overlap between the trailing and leading edge"
   ]
  },
  {
   "cell_type": "code",
   "execution_count": 18,
   "id": "89f012af-a0c9-47f5-a589-222f7dc2b7b7",
   "metadata": {},
   "outputs": [
    {
     "data": {
      "text/plain": [
       "[Document(page_content='In probability theory and statistics, the Poisson distribution is a discrete probability'),\n",
       " Document(page_content='probability distribution that expresses the probability of a given number of events occurring in a'),\n",
       " Document(page_content='occurring in a fixed interval of time or space if these events occur with a known constant mean'),\n",
       " Document(page_content='known constant mean rate and independently of the time since the last event.[1] It is named after'),\n",
       " Document(page_content='It is named after French mathematician Siméon Denis Poisson (/ˈpwɑːsɒn/; French pronunciation:'),\n",
       " Document(page_content='pronunciation: [pwasɔ̃]). The Poisson distribution can also be used for the number of events in'),\n",
       " Document(page_content='number of events in other specified interval types such as distance, area, or volume. It plays an'),\n",
       " Document(page_content='volume. It plays an important role for discrete-stable distributions.'),\n",
       " Document(page_content='For instance, a call center receives an average of 180 calls per hour, 24 hours a day. The calls'),\n",
       " Document(page_content='a day. The calls are independent; receiving one does not change the probability of when the next'),\n",
       " Document(page_content='of when the next one will arrive. The number of calls received during any minute has a Poisson'),\n",
       " Document(page_content='has a Poisson probability distribution with mean 3. The most likely number of calls received are 2'),\n",
       " Document(page_content='received are 2 and 3, but 1 and 4 are also likely. There is a small probability of it being as low'),\n",
       " Document(page_content='of it being as low as zero and a very small probability it could be 10 or even higher.'),\n",
       " Document(page_content='Another example is the number of decay events that occur from a radioactive source during a defined'),\n",
       " Document(page_content='during a defined observation period.')]"
      ]
     },
     "execution_count": 18,
     "metadata": {},
     "output_type": "execute_result"
    }
   ],
   "source": [
    "texts"
   ]
  },
  {
   "cell_type": "code",
   "execution_count": null,
   "id": "d9c20ffb-bac0-4f74-bdf1-243d7428ec8a",
   "metadata": {},
   "outputs": [],
   "source": []
  }
 ],
 "metadata": {
  "kernelspec": {
   "display_name": "myenv",
   "language": "python",
   "name": "myenv"
  },
  "language_info": {
   "codemirror_mode": {
    "name": "ipython",
    "version": 3
   },
   "file_extension": ".py",
   "mimetype": "text/x-python",
   "name": "python",
   "nbconvert_exporter": "python",
   "pygments_lexer": "ipython3",
   "version": "3.9.18"
  }
 },
 "nbformat": 4,
 "nbformat_minor": 5
}
