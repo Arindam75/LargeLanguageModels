{
 "cells": [
  {
   "cell_type": "code",
   "execution_count": null,
   "id": "0f7a5218-faaa-4594-b299-8ab0d2127330",
   "metadata": {},
   "outputs": [],
   "source": [
    "from langchain.text_splitter import RecursiveCharacterTextSplitter\n",
    "\n",
    "from langchain.embeddings.huggingface import HuggingFaceEmbeddings\n",
    "from langchain.vectorstores import FAISS\n",
    "\n",
    "from langchain.document_loaders import PyPDFLoader\n",
    "from glob import glob\n",
    "from tqdm import tqdm\n",
    "\n",
    "import yaml"
   ]
  },
  {
   "cell_type": "markdown",
   "id": "e9599396-fabf-47e1-9d76-e73fa6356383",
   "metadata": {},
   "source": [
    "## Load Documents and Build the Vector Store"
   ]
  },
  {
   "cell_type": "code",
   "execution_count": null,
   "id": "7a3e2e81-72f2-4468-897b-361c9d6e988c",
   "metadata": {},
   "outputs": [],
   "source": [
    "def load_config():\n",
    "    with open(\"./config/config.yaml\", \"r\") as file:\n",
    "        config = yaml.safe_load(file)\n",
    "    return config\n",
    "\n",
    "config = load_config()\n",
    "\n",
    "def load_documents(directory : str):\n",
    "    \"\"\"Loads all documents from a directory and returns a list of Document objects\n",
    "    args: directory format = directory/\n",
    "    \"\"\"\n",
    "    text_splitter = RecursiveCharacterTextSplitter(chunk_size = config[\"TextSplitter\"][\"chunk_size\"], \n",
    "                                                   chunk_overlap = config[\"TextSplitter\"][\"chunk_overlap\"])\n",
    "    documents = []\n",
    "    for item_path in tqdm(glob(directory + \"*.pdf\")):\n",
    "        loader = PyPDFLoader(item_path)\n",
    "        documents.extend(loader.load_and_split(text_splitter=text_splitter))\n",
    "\n",
    "    return documents\n",
    "\n",
    "def load_embeddings(model_name=config[\"embeddings\"][\"name\"],\n",
    "                    model_kwargs = {'device': config[\"embeddings\"][\"device\"]}):\n",
    "    return HuggingFaceEmbeddings(model_name=model_name, model_kwargs = model_kwargs)\n",
    "\n",
    "\n",
    "def load_db(embedding_function, save_path=config[\"faiss_indexstore\"][\"save_path\"], index_name=config[\"faiss_indexstore\"][\"index_name\"]):\n",
    "    db = FAISS.load_local(folder_path=save_path, index_name=index_name, embeddings = embedding_function)\n",
    "    return db\n",
    "\n",
    "def save_db(db, save_path=config[\"faiss_indexstore\"][\"save_path\"], index_name=config[\"faiss_indexstore\"][\"index_name\"]):\n",
    "    db.save_local(save_path, index_name)\n",
    "    print(\"Saved db to \" + save_path + index_name)"
   ]
  },
  {
   "cell_type": "code",
   "execution_count": null,
   "id": "36d2a889-1696-4d72-8262-a2b6cf40c6b3",
   "metadata": {},
   "outputs": [],
   "source": [
    "documents = load_documents(\"data/\")"
   ]
  },
  {
   "cell_type": "code",
   "execution_count": null,
   "id": "5680ca17-0cb0-462c-8a0a-09e3ead7837a",
   "metadata": {},
   "outputs": [],
   "source": [
    "embedding_function = load_embeddings()"
   ]
  },
  {
   "cell_type": "code",
   "execution_count": null,
   "id": "03d76542-51bd-4d1e-9aeb-11b1eafa3c79",
   "metadata": {},
   "outputs": [],
   "source": [
    "db = FAISS.from_documents(documents, embedding_function)"
   ]
  },
  {
   "cell_type": "code",
   "execution_count": null,
   "id": "70857d79-d091-485b-8e4a-889f61a47024",
   "metadata": {},
   "outputs": [],
   "source": [
    "db.save_local(\"faiss_db/\",\"books\")"
   ]
  },
  {
   "cell_type": "code",
   "execution_count": null,
   "id": "ada85dbe-b65d-4e1f-bf12-a04822952218",
   "metadata": {},
   "outputs": [],
   "source": [
    "print(db.similarity_search(\"5G Subscribers in Asia\"))"
   ]
  },
  {
   "cell_type": "markdown",
   "id": "4f2df058-0168-4462-a94a-dacaee3a81ed",
   "metadata": {},
   "source": [
    "## Build The QA Retreiver"
   ]
  },
  {
   "cell_type": "code",
   "execution_count": 1,
   "id": "08f995de-780c-4c62-a5a6-a30f8a1a3db9",
   "metadata": {},
   "outputs": [],
   "source": [
    "import sys, os\n",
    "from langchain.chains import RetrievalQA\n",
    "from langchain.chat_models import ChatOpenAI\n",
    "sys.path.append(\"../../Langchain\")\n",
    "from constants import openai_key\n",
    "\n",
    "os.environ['OPENAI_API_KEY'] = openai_key"
   ]
  },
  {
   "cell_type": "code",
   "execution_count": null,
   "id": "e9076a9e-24f7-4acc-a04b-d3c49335d944",
   "metadata": {},
   "outputs": [],
   "source": [
    "db = load_db(embedding_function)\n",
    "qa = RetrievalQA.from_llm(llm = ChatOpenAI(temperature=0.1),\n",
    "                          retriever = db.as_retriever(kwargs={\"k\": 7}),\n",
    "                          return_source_documents = False)"
   ]
  },
  {
   "cell_type": "code",
   "execution_count": null,
   "id": "c4f0f823-f7e1-4cb5-b263-7b045e155972",
   "metadata": {},
   "outputs": [],
   "source": [
    "question = \"What are the main factors fuelling subscriber growth \"\n",
    "print(qa(question)['result'])"
   ]
  },
  {
   "cell_type": "code",
   "execution_count": null,
   "id": "79dd5e1b-698b-4632-897b-97facbd9733f",
   "metadata": {},
   "outputs": [],
   "source": [
    "sys.path"
   ]
  },
  {
   "cell_type": "code",
   "execution_count": null,
   "id": "ecb15d03-44c8-4caf-a202-f62a1afbd78a",
   "metadata": {},
   "outputs": [],
   "source": []
  }
 ],
 "metadata": {
  "kernelspec": {
   "display_name": "myenv",
   "language": "python",
   "name": "myenv"
  },
  "language_info": {
   "codemirror_mode": {
    "name": "ipython",
    "version": 3
   },
   "file_extension": ".py",
   "mimetype": "text/x-python",
   "name": "python",
   "nbconvert_exporter": "python",
   "pygments_lexer": "ipython3",
   "version": "3.9.18"
  }
 },
 "nbformat": 4,
 "nbformat_minor": 5
}
