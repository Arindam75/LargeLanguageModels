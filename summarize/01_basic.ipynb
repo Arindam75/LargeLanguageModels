{
 "cells": [
  {
   "cell_type": "markdown",
   "metadata": {},
   "source": [
    "[Summarization System](https://www.youtube.com/watch?v=LNq_2s_H01Y&t=204s)<br>\n",
    "Summarization exercise based on Sam Witteveen's tutorial"
   ]
  },
  {
   "cell_type": "code",
   "execution_count": 8,
   "metadata": {},
   "outputs": [],
   "source": [
    "from dotenv import load_dotenv\n",
    "import os\n",
    "load_dotenv()\n",
    "\n",
    "os.environ[\"OPENAI_API_KEY\"]=os.getenv(\"OPENAI_API_KEY\")"
   ]
  },
  {
   "cell_type": "code",
   "execution_count": 9,
   "metadata": {},
   "outputs": [],
   "source": [
    "from langchain import PromptTemplate, LLMChain\n",
    "from langchain_openai import OpenAI\n",
    "from langchain.text_splitter import CharacterTextSplitter\n",
    "from langchain.chains.mapreduce import MapReduceChain\n",
    "from langchain.prompts import PromptTemplate\n",
    "from langchain.document_loaders import PyPDFLoader\n",
    "\n",
    "llm = OpenAI(temperature=0)"
   ]
  },
  {
   "cell_type": "code",
   "execution_count": 23,
   "metadata": {},
   "outputs": [],
   "source": [
    "text_splitter = CharacterTextSplitter()\n",
    "loader = PyPDFLoader(\"how-to-win-friends-and-influence-people.pdf\")\n",
    "docs = loader.load_and_split(text_splitter=text_splitter)"
   ]
  },
  {
   "cell_type": "code",
   "execution_count": 32,
   "metadata": {},
   "outputs": [
    {
     "data": {
      "text/plain": [
       "[Document(page_content='How  This Book Was Written—And Why  \\n \\n \\nDuring the first thirty-five years of t he twentieth cent ury, the publ ishing houses of Am erica pri nted \\nmore than a fifth of a m illion different  books. Most of them  were deadly dull,  and m any were financial failures. \\n“Many,” did I say ? The presi dent of one of t he largest  publ ishing houses i n the worl d confessed t o me that his \\ncompany, after seventy-five years of  publishing experience, still lost m oney on seven out of every eight books it \\npublished. \\n \\nWhy, then, did I have the tem erity to write anot her book?  And, after I had written it, why should you \\nbother to read i t? \\n \\nFair quest ions, bot h; and I’l l try to answer t hem. \\n \\nI have, si nce 1912, been conduct ing educat ional cour ses for busi ness and professi onal men and wom en \\nin New York. At  first, I conduct ed courses i n publ ic speaking onl y—courses desi gned t o train adul ts, by actual \\nexperience, to think on their feet and express their ideas with m ore clarity , more effectiveness and m ore poise, \\nboth in busi ness interviews and before groups. \\n \\nBut gradual ly, as the seasons passed, I realized that as sorely  as these adults needed  train ing in effectiv e \\nspeaking, they needed still more training in the fine art of getting along with people in everyday business and \\nsocial contacts. \\n \\nI also gradual ly realized t hat I was sorel y in need  of such t raining m yself. As I l ook back across t he \\nyears, I am  appal led at my own frequent  lack of fi nesse and underst anding. How I wi sh a book such as t his had \\nbeen placed in m y hands twenty years ago!  What a priceless boon it would have been. \\n \\nDealing with people is probably the biggest problem  you face, especially  if you are in business. Yes, \\nand t hat is also true if you are a housewi fe, archi tect or engi neer. R esearch done a few y ears ago under t he \\nauspices of the Carnegie Foundation for the Advan cement of Teaching uncovered a m ost im portant and \\nsignificant fact—a fact later confirm ed by additional studies m ade at th e Carnegie Institute of Technology. \\nThese i nvest igations reveal ed that even i n such t echnical lines as engi neeri ng, about  15 percent  of one’s \\nfinancial success is due to one’s tec hnical knowledge and about 85 percent is due to skill in hum an engineering, \\nto personality an d the ability to  lead  people. \\n \\nFor m any years, I conducted course s each season at the Engineers’ Club of Philadelphia, and also \\ncourses fo r the New Yo rk Chapter of the Am erican  Institute of Electrical En gineers. A to tal of probably more \\nthan fifteen hundred engineers have passed through m y classes. They cam e to me because they had finally \\nrealized, aft er years of observat ion and experi ence, t hat the highest -paid personnel  in engi neeri ng are frequent ly \\nnot those who know the m ost about engineering. One can for exam ple, hire m ere technical ability in \\nengineeri ng, account ancy , archi tecture or any  other professi on at  nom inal salaries. B ut the person who has \\ntechnical knowledge plus the ability to express ideas, to  assum e leadership, and to arouse enthusiasm  among \\npeopl e—that person i s headed for hi gher earni ng power. \\n \\nIn the heyday of his activity, John D. Rockefeller sa id that “the ability to deal with people is as \\npurchasable a com modity as sugar or coffee.” “And I will pay m ore for that ability,” said John D., “than for any \\nother under t he sun.” \\n \\nWouldn’t you suppose t hat every  college in the land woul d conduct  courses t o devel op the highest -\\npriced ability under the sun?  But if ther e is just one practical, com monsense c ourse of that kind given for adults \\nin even one college in the lan d, it has escap ed my atten tion up to the present writin g. \\n \\nThe Uni versity of C hicago and t he Uni ted Y.M .C.A. School s conduct ed a survey  to determine what  \\nadults want  to study. \\n \\nThat survey  cost $25,000 and t ook t wo years. The l ast part of the survey  was m ade in Meriden, \\nConnect icut. It had been chosen as  a typ ical Am erican  town. Every ad ult in Merid en was in terviewed  and \\nrequest ed to answer 156 quest ions—quest ions such as “W hat is your busi ness or professi on? Your educat ion? \\nHow do you spend your spare tim e? What is your in come? Your hobbies?  Your am bitions?  Your problem s? \\nWhat subject s are y ou m ost interested in studying?” And so  on. That survey revealed that health  is th e prime \\n 5', metadata={'source': 'how-to-win-friends-and-influence-people.pdf', 'page': 5}),\n",
       " Document(page_content='interest of adul ts and t hat their second i nterest is peopl e; how t o underst and and get  along wi th peopl e; how t o \\nmake peopl e like you; and how t o win others t o your way  of thinking. \\n \\nSo the com mittee conduct ing this survey  resol ved to conduct  such a course for adul ts in Meriden. They  \\nsearched diligently for a pr actical textbook on the subject and found not one. Finally they  approached one of the \\nworld’s outstanding authorities on adult education and asked him  if he knew of any book that m et the needs of \\nthis group. “No,” he replied, \"I know what those adu lts want. But the book they need has never been written.” \\n \\nI knew from  experience that this statem ent was true , for I m yself had been searching for years to \\ndiscover a pract ical, worki ng handbook on hum an rel ations. \\n \\nSince no such book exi sted, I have t ried to write one for use i n my own courses. And here i t is. I hope \\nyou like it. \\n \\nIn preparat ion for t his book, I read every thing that I coul d find on t he subject —every thing from  \\nnewspaper col umns, magazine art icles, records of t he family court s, the wri tings of t he old phi losophers and t he \\nnew psy chologists. In addi tion, I hi red a t rained research er to spend one and a hal f years i n various l ibraries \\nreadi ng every thing I had m issed, pl owing through erudi te tomes on psy chology, pori ng over hundreds of \\nmagazine art icles, searchi ng through count less biographi es, trying to ascert ain how t he great  leaders of al l ages \\nhad deal t with peopl e. W e read t heir biographi es; we read  the life sto ries of all g reat leaders from  Julius Caesar \\nto Thom as Edi son. I recal l that we read over one hundr ed bi ographi es of Theodore R oosevel t alone. W e were \\ndetermined to spare no t ime, no expense, t o discover every  pract ical idea that anyone had ever used t hroughout  \\nthe ages for wi nning fri ends and i nfluenci ng peopl e. \\n \\nI personal ly interviewed scores of successful  peopl e, som e of them worl d-fam ous i nvent ors like \\nMarco ni and Edison; political lead ers lik e Fran klin D. Ro osevelt an d James Farley; b usiness lead ers lik e Owen  \\nD. Young;  movie stars like Clark Gabl e and M ary Pickford, and expl orers l ike Martin Johnson, and t ried to \\ndiscover t he techni ques t hey used i n hum an rel ations. \\n \\nFrom all th is material, I p repared a short talk . I called  it “Ho w to Win Frien ds and Influence Peo ple”. I \\nsay “short .” It was short  in the begi nning, but  it soon e xpanded t o a lecture that consum ed one hour and t hirty \\nminutes. For years, I gave this talk each season to the adults in the Carnegie Ins titute courses in New York. \\n \\nI gave t he talk and urged t he listeners t o go out  and t est it in  their business an d social contacts, and then \\ncome back t o class and speak about  their experi ences a nd the resul ts they had achi eved. W hat an interesting \\nassignment! These m en and wom en, hungry  for sel f-improvem ent, were fasci nated by  the idea of worki ng in a \\nnew ki nd of l aborat ory—the first and onl y laborat ory of hum an rel ationshi ps for adul ts that had ever exi sted. \\n \\nThis book wasn’t written in the usual sense of the word. It grew as a child grows. It grew and \\ndevel oped out  of that laborat ory, out of the experi ences of t housands of adul ts. \\n \\nYears ago, we started with a set of rul es printed on a card no l arger t han a post card. The next  season we \\nprinted a larger card, then a leaflet,  then a series of booklets, each one e xpanding in size and sc ope. After fifteen \\nyears of experi ment and research cam e this book. \\n \\nThe rul es we have set  down here are not  mere theories or guesswork. They  work l ike magic. Incredi ble \\nas it sounds, I have seen the application of these prin ciples literally revolutionize the lives of m any people. \\n \\nTo illustrate: A m an with 314 em ployees joined one of  these courses. For years, he had driven and \\ncriticized and condem ned his em ployees without stint or discretion. Kindness, words of appreciation and \\nencouragem ent were al ien to his lips. Aft er studying the principles discussed i n this book, t his employer sharpl y \\naltered hi s phi losophy  of life. Hi s organi zation is now i nspired wi th a new l oyalty, a new ent husiasm, a new \\nspirit of teamwork. Three hundred and fourt een enem ies have been t urned i nto 314 fri ends. As he proudl y said \\nin a speech before the class: “W hen I used to walk th rough m y establishm ent, no one greeted m e. My em ployees \\nactually looked t he other way  when t hey saw m e approachi ng. B ut now t hey are al l my friends and even t he \\njanitor calls m e by my first n ame.” \\n \\nThis employer gai ned m ore profi t, more leisure and—what  is infinitely more important—he found far \\nmore happi ness i n his busi ness and i n his hom e. \\n \\n 6', metadata={'source': 'how-to-win-friends-and-influence-people.pdf', 'page': 6}),\n",
       " Document(page_content='Countless num bers of sal espeopl e have sharpl y increased t heir sales by the use of t hese pri nciples. \\nMany have opened up new acc ounts—accounts that they had form erly so licited in vain. Executives have been \\ngiven increased authority, increased pa y. One executive reported a large incr ease in salary because he applied \\nthese truths. Another, an executive in  the Philadelphia Gas W orks Company, was sl ated for dem otion when he \\nwas sixty-five because of his belliger ence, because of his inab ility to lead people skillfully. This training not \\nonly saved hi m from  the dem otion but  brought  him a prom otion wi th increased pay . \\n \\nOn innum erable occasions, spouses attending the banquet given at the e nd of the course have told m e \\nthat their hom es have been m uch happi er since t heir husbands or wi ves st arted this training. \\n \\nPeople are frequently astonished at the new results th ey achieve. It all seem s like m agic. In som e cases, \\nin their enthusiasm , they have te lephoned m e at m y hom e on Sundays becau se they couldn’t wait forty-eight \\nhours t o report  their achi evements at the regul ar sessi on of t he course. \\n \\nOne m an was so st irred by  a talk on these pri nciples that he sat  far i nto the night discussi ng them with \\nother m embers of t he class. At  three o’cl ock i n the morning, the others went  hom e. But he was so shaken by  a \\nrealization of hi s own m istakes, so i nspired by  the vista of a new and ri cher worl d openi ng before hi m, that he \\nwas unabl e to sleep. He di dn’t sleep t hat night or the next  day or the next  night. \\n \\nWho was he? A nai ve, unt rained individual ready  to gush over any  new t heory that cam e along?  No, far \\nfrom  it. He was a sophi sticated, bl asé deal er in art, very  much the man about  town, who spoke t hree languages \\nfluently an d was a g raduate of two European universities. \\n \\nWhile writing this chapter, I received a letter from  a Germ an of the old school, an aristocrat whose \\nforebears had served for generations as professional arm y officers under th e Hohenzollerns. His letter, written \\nfrom  a transat lantic steamer, telling about  the appl ication of t hese pri nciples, rose al most to a rel igious fervor. \\n \\nAnot her m an, an ol d New Yorker, a Harvard graduat e, a weal thy man, the owner of a l arge carpet  \\nfactory, decl ared he had l earned m ore in fourt een weeks t hrough t his system of training about  the fine art  of \\ninfluenci ng peopl e than he had l earned about  the sam e subject  during hi s four y ears i n college. Absurd?  \\nLaughabl e? Fant astic? Of course, y ou are pri vileged t o dismiss this statement with what ever adject ive you wi sh. \\nI am merely reporting, without co mment, a declaration m ade by a c onservative and em inently successful \\nHarvard graduat e in a publ ic address t o approxi mately six hundred peopl e at the Yal e Club in New York on t he \\neveni ng of Thursday , February  23, 1933. \\n \\n“Com pared to what we ought to be ,” said the fam ous Professor W illiam  James of Harvard, “com pared \\nto what  we ought  to be, we are onl y half awake. W e are m aking use of onl y a sm all part of our phy sical and \\nmental resources. St ating the thing broadl y, the hum an individual thus lives far with in his lim its. He p ossesses \\npowers of vari ous sort s whi ch he habi tually fails to use.” \\n \\nThose powers whi ch you “habi tually fail to use”! The sol e purpose of t his book i s to help you di scover, \\ndevel op and profi t by those dorm ant and unused asset s. \\n \\n“Education,” said Dr. John G. Hibben, form er presid ent of Princeton University , “is the ability to m eet \\nlife’s situ ations.” \\n \\nIf by the tim e you have finished read ing the first three chapters of th is book, if you aren’t then a little \\nbetter equi pped t o meet life’s si tuations, t hen I shal l cons ider this book t o be a t otal failure so far as y ou are \\nconcerned. \\n \\n“For t he great  aim of educat ion,” sai d Herbert  Spencer, “i s not  knowl edge but  action.” \\n \\nAnd t his is an act ion book. \\n \\n– Dale Carn egie \\n1936 \\n \\n \\n \\n \\n 7', metadata={'source': 'how-to-win-friends-and-influence-people.pdf', 'page': 7}),\n",
       " Document(page_content='Nine Suggestions On How  To Get The Most Out Of This Book \\n \\n \\n1. If you wi sh to get the most out of this book, t here is one i ndispensabl e requi rement, one essent ial infinitely \\nmore important than any  rule or techni que. Unl ess you have t his one fundam ental requi site, a thousand rules \\non how to study will avail little, and if you do have th is cardinal endowm ent, then you can achieve wonders \\nwithout reading any suggestions fo r getting the m ost out of a book. \\n \\nWhat is this magic requi rement? Just this: a deep, dri ving desi re to learn, a vi gorous det ermination to \\nincrease yo ur ability to  deal with  people. \\n \\nHow can you devel op such an urge?  By const antly reminding yoursel f how i mportant these pri nciples are t o \\nyou. Pictu re to yourself h ow their m astery will aid  you in lead ing a rich er, fu ller, h appier an d more \\nfulfilling life. Say to yourself over and over: “My popul arity, m y happiness and sense of worth depend to no \\nsmall extent upon m y skill in dealing with people.” \\n \\n2. Read each chapter rapidly at first to get a bird’s-eye view of it. You will probably be tem pted then to rush \\non to the next  one. B ut don’t , unless y ou are readi ng m erely for ent ertainment. But if you are readi ng \\nbecause you want to increase your  skill in hum an relations, then go back and reread each chapter \\nthoroughly. In the long run, this w ill mean saving tim e and getting results. \\n \\n3. Stop frequent ly in your readi ng to think over what  you are readi ng. Ask y oursel f just how and when y ou \\ncan apply each suggestion. \\n \\n4. Read wi th a cray on, penci l, pen, m agic marker or hi ghlighter in your hand. W hen you com e across a \\nsuggest ion that you feel  you can use, draw a l ine besi de it. If it is a four-st ar suggest ion, then underscore \\nevery  sentence or hi ghlight it, or m ark it with “****”. M arking and underscori ng a book m akes it more \\ninterestin g, and far easie r to review rapidly . \\n \\n5. I knew a wom an who had been offi ce m anager for a l arge insurance concern for fi fteen y ears. Every  month, \\nshe read all the insurance contracts her com pany had issued that m onth. Yes, she read m any of the sam e \\ncontracts over m onth after m onth, y ear after year. W hy? Because experi ence had taught her that that was \\nthe onl y way  she coul d keep t heir provi sions cl early in mind. \\n \\nI once spent  almost two years wri ting a book on publ ic speaki ng and y et I found I had t o keep goi ng back \\nover it from  time to tim e in order to rem ember what I had written in m y own book. The rapidity with which \\nwe forget  is astonishing. \\n \\nSo, if you want  to get a real , lasting benefi t out of this book, don’t  imagine that skimming through i t once \\nwill suffice. After reading it thoroughl y, you ought to spend a few hours re viewing it every m onth. Keep it \\non your desk i n front  of you every  day. Glance t hrough i t often. Keep const antly impressi ng yoursel f with \\nthe rich  possibilities fo r improvement that still lie in  the offing. Rem ember that the use of these p rinciples \\ncan be m ade habi tual only by a const ant and vi gorous  cam paign of revi ew and appl ication. There i s no \\nother way . \\n \\n6. Bernard Shaw once rem arked, “If you teach a m an anything, he will never learn. ” Shaw was right. Learning \\nis an act ive process. W e learn by  doing. So, i f you desi re to master the principles you are st udying in this \\nbook, do som ething about them . Apply these rules at every opportunity. If you don’t you will forget them  \\nquickly. Onl y knowl edge t hat is used st icks in your m ind. \\n \\nYou will probably find it difficult to apply these sugges tions all the tim e. I know because I wrote the book, \\nand y et frequent ly I found i t difficult to appl y every thing I advocat ed. For exam ple, when y ou are \\ndispleased, it is m uch easier to criticize and condem n than it is to try to understand the other person’s \\nviewpoi nt. It is frequent ly easier to find faul t than to find prai se. It  is more nat ural to talk about  what  you \\nwant  than to talk about  what  the other person want s and so on. So, as y ou read t his book, remember that you \\nare not  merely trying to acqui re inform ation. You are at tempting to form  new habi ts. Ah y es, you are \\nattem pting a new way o f life. Th at will req uire tim e and persisten ce an d daily ap plicatio n. \\n \\nSo refer to these pages oft en. Regard t his as a worki ng handbook on hum an rel ations; and whenever y ou are \\nconfront ed wi th som e speci fic probl em—such as handl ing a chi ld, winning your spouse t o your way  of \\n 8', metadata={'source': 'how-to-win-friends-and-influence-people.pdf', 'page': 8})]"
      ]
     },
     "execution_count": 32,
     "metadata": {},
     "output_type": "execute_result"
    }
   ],
   "source": [
    "docs[5:9]"
   ]
  },
  {
   "cell_type": "markdown",
   "metadata": {},
   "source": [
    "### Map-reduce Summarization\n",
    "\n",
    "Summarizing a large document has its limitation due to context window.<br>This method involves **an initial prompt on each chunk of data ***\n",
    "( for summarization tasks, this could be a summary of that chunk; for question-answering tasks, it could be an answer based solely on that chunk). **Then a different prompt is run to combine all the initial outputs.** This is implemented in the LangChain as the MapReduceDocumentsChain.\n",
    "\n",
    "**Pros:** Can scale to larger documents (and more documents) than StuffDocumentsChain. The calls to the LLM on individual documents are independent and can therefore be parallelized.\n",
    "\n",
    "**Cons:** Requires many more calls to the LLM than StuffDocumentsChain. Loses some information during the final combining call. If there is an important piece of information sliced into chunk 2 and 3, such that the individual slices aren't that important, then Mapreduce might drop that piece of information altogether.   "
   ]
  },
  {
   "cell_type": "code",
   "execution_count": 36,
   "metadata": {},
   "outputs": [
    {
     "name": "stdout",
     "output_type": "stream",
     "text": [
      "  The author wrote this book to address the need for training in public speaking and getting along\n",
      "with people. He discusses the importance of human engineering and how it can lead to financial\n",
      "success. The book shares proven principles that have transformed the lives of many, including\n",
      "successful salespeople, executives, and spouses. It provides nine suggestions for getting the most\n",
      "out of the book, emphasizing the importance of applying the principles in daily life. The book\n",
      "should be treated as a working handbook on human relations and referred to often.\n"
     ]
    }
   ],
   "source": [
    "from langchain.chains.summarize import load_summarize_chain\n",
    "import textwrap\n",
    "\n",
    "chain = load_summarize_chain(llm, \n",
    "                             chain_type=\"map_reduce\")\n",
    "\n",
    "output_summary = chain.run(docs[5:9])\n",
    "wrapped_text = textwrap.fill(output_summary, width=100)\n",
    "print(wrapped_text)"
   ]
  },
  {
   "cell_type": "markdown",
   "metadata": {},
   "source": [
    "Incidentally , the __load_summarize_chain__ has to prompt templates built into it.\n",
    "- The first one uses the summarization prompt on each of the document chunks to generate individual summaries.\n",
    "- The second one uses a similar prompt to generate a summary of the summaries\n",
    "\n",
    "Bot these prompts are shown below."
   ]
  },
  {
   "cell_type": "code",
   "execution_count": 38,
   "metadata": {},
   "outputs": [
    {
     "data": {
      "text/plain": [
       "'Write a concise summary of the following:\\n\\n\\n\"{text}\"\\n\\n\\nCONCISE SUMMARY:'"
      ]
     },
     "execution_count": 38,
     "metadata": {},
     "output_type": "execute_result"
    }
   ],
   "source": [
    "# for summarizing each part\n",
    "chain.llm_chain.prompt.template"
   ]
  },
  {
   "cell_type": "code",
   "execution_count": 39,
   "metadata": {},
   "outputs": [
    {
     "data": {
      "text/plain": [
       "'Write a concise summary of the following:\\n\\n\\n\"{text}\"\\n\\n\\nCONCISE SUMMARY:'"
      ]
     },
     "execution_count": 39,
     "metadata": {},
     "output_type": "execute_result"
    }
   ],
   "source": [
    "# for combining the parts\n",
    "chain.combine_document_chain.llm_chain.prompt.template"
   ]
  },
  {
   "cell_type": "markdown",
   "metadata": {},
   "source": [
    "We can repeat the above exercise by setting verbose = Trye to see what is happening under the hood."
   ]
  },
  {
   "cell_type": "code",
   "execution_count": 42,
   "metadata": {},
   "outputs": [
    {
     "name": "stdout",
     "output_type": "stream",
     "text": [
      "\n",
      "\n",
      "\u001b[1m> Entering new MapReduceDocumentsChain chain...\u001b[0m\n",
      "\n",
      "\n",
      "\u001b[1m> Entering new LLMChain chain...\u001b[0m\n",
      "Prompt after formatting:\n",
      "\u001b[32;1m\u001b[1;3mWrite a concise summary of the following:\n",
      "\n",
      "\n",
      "\"How  This Book Was Written—And Why  \n",
      " \n",
      " \n",
      "During the first thirty-five years of t he twentieth cent ury, the publ ishing houses of Am erica pri nted \n",
      "more than a fifth of a m illion different  books. Most of them  were deadly dull,  and m any were financial failures. \n",
      "“Many,” did I say ? The presi dent of one of t he largest  publ ishing houses i n the worl d confessed t o me that his \n",
      "company, after seventy-five years of  publishing experience, still lost m oney on seven out of every eight books it \n",
      "published. \n",
      " \n",
      "Why, then, did I have the tem erity to write anot her book?  And, after I had written it, why should you \n",
      "bother to read i t? \n",
      " \n",
      "Fair quest ions, bot h; and I’l l try to answer t hem. \n",
      " \n",
      "I have, si nce 1912, been conduct ing educat ional cour ses for busi ness and professi onal men and wom en \n",
      "in New York. At  first, I conduct ed courses i n publ ic speaking onl y—courses desi gned t o train adul ts, by actual \n",
      "experience, to think on their feet and express their ideas with m ore clarity , more effectiveness and m ore poise, \n",
      "both in busi ness interviews and before groups. \n",
      " \n",
      "But gradual ly, as the seasons passed, I realized that as sorely  as these adults needed  train ing in effectiv e \n",
      "speaking, they needed still more training in the fine art of getting along with people in everyday business and \n",
      "social contacts. \n",
      " \n",
      "I also gradual ly realized t hat I was sorel y in need  of such t raining m yself. As I l ook back across t he \n",
      "years, I am  appal led at my own frequent  lack of fi nesse and underst anding. How I wi sh a book such as t his had \n",
      "been placed in m y hands twenty years ago!  What a priceless boon it would have been. \n",
      " \n",
      "Dealing with people is probably the biggest problem  you face, especially  if you are in business. Yes, \n",
      "and t hat is also true if you are a housewi fe, archi tect or engi neer. R esearch done a few y ears ago under t he \n",
      "auspices of the Carnegie Foundation for the Advan cement of Teaching uncovered a m ost im portant and \n",
      "significant fact—a fact later confirm ed by additional studies m ade at th e Carnegie Institute of Technology. \n",
      "These i nvest igations reveal ed that even i n such t echnical lines as engi neeri ng, about  15 percent  of one’s \n",
      "financial success is due to one’s tec hnical knowledge and about 85 percent is due to skill in hum an engineering, \n",
      "to personality an d the ability to  lead  people. \n",
      " \n",
      "For m any years, I conducted course s each season at the Engineers’ Club of Philadelphia, and also \n",
      "courses fo r the New Yo rk Chapter of the Am erican  Institute of Electrical En gineers. A to tal of probably more \n",
      "than fifteen hundred engineers have passed through m y classes. They cam e to me because they had finally \n",
      "realized, aft er years of observat ion and experi ence, t hat the highest -paid personnel  in engi neeri ng are frequent ly \n",
      "not those who know the m ost about engineering. One can for exam ple, hire m ere technical ability in \n",
      "engineeri ng, account ancy , archi tecture or any  other professi on at  nom inal salaries. B ut the person who has \n",
      "technical knowledge plus the ability to express ideas, to  assum e leadership, and to arouse enthusiasm  among \n",
      "peopl e—that person i s headed for hi gher earni ng power. \n",
      " \n",
      "In the heyday of his activity, John D. Rockefeller sa id that “the ability to deal with people is as \n",
      "purchasable a com modity as sugar or coffee.” “And I will pay m ore for that ability,” said John D., “than for any \n",
      "other under t he sun.” \n",
      " \n",
      "Wouldn’t you suppose t hat every  college in the land woul d conduct  courses t o devel op the highest -\n",
      "priced ability under the sun?  But if ther e is just one practical, com monsense c ourse of that kind given for adults \n",
      "in even one college in the lan d, it has escap ed my atten tion up to the present writin g. \n",
      " \n",
      "The Uni versity of C hicago and t he Uni ted Y.M .C.A. School s conduct ed a survey  to determine what  \n",
      "adults want  to study. \n",
      " \n",
      "That survey  cost $25,000 and t ook t wo years. The l ast part of the survey  was m ade in Meriden, \n",
      "Connect icut. It had been chosen as  a typ ical Am erican  town. Every ad ult in Merid en was in terviewed  and \n",
      "request ed to answer 156 quest ions—quest ions such as “W hat is your busi ness or professi on? Your educat ion? \n",
      "How do you spend your spare tim e? What is your in come? Your hobbies?  Your am bitions?  Your problem s? \n",
      "What subject s are y ou m ost interested in studying?” And so  on. That survey revealed that health  is th e prime \n",
      " 5\"\n",
      "\n",
      "\n",
      "CONCISE SUMMARY:\u001b[0m\n",
      "Prompt after formatting:\n",
      "\u001b[32;1m\u001b[1;3mWrite a concise summary of the following:\n",
      "\n",
      "\n",
      "\"interest of adul ts and t hat their second i nterest is peopl e; how t o underst and and get  along wi th peopl e; how t o \n",
      "make peopl e like you; and how t o win others t o your way  of thinking. \n",
      " \n",
      "So the com mittee conduct ing this survey  resol ved to conduct  such a course for adul ts in Meriden. They  \n",
      "searched diligently for a pr actical textbook on the subject and found not one. Finally they  approached one of the \n",
      "world’s outstanding authorities on adult education and asked him  if he knew of any book that m et the needs of \n",
      "this group. “No,” he replied, \"I know what those adu lts want. But the book they need has never been written.” \n",
      " \n",
      "I knew from  experience that this statem ent was true , for I m yself had been searching for years to \n",
      "discover a pract ical, worki ng handbook on hum an rel ations. \n",
      " \n",
      "Since no such book exi sted, I have t ried to write one for use i n my own courses. And here i t is. I hope \n",
      "you like it. \n",
      " \n",
      "In preparat ion for t his book, I read every thing that I coul d find on t he subject —every thing from  \n",
      "newspaper col umns, magazine art icles, records of t he family court s, the wri tings of t he old phi losophers and t he \n",
      "new psy chologists. In addi tion, I hi red a t rained research er to spend one and a hal f years i n various l ibraries \n",
      "readi ng every thing I had m issed, pl owing through erudi te tomes on psy chology, pori ng over hundreds of \n",
      "magazine art icles, searchi ng through count less biographi es, trying to ascert ain how t he great  leaders of al l ages \n",
      "had deal t with peopl e. W e read t heir biographi es; we read  the life sto ries of all g reat leaders from  Julius Caesar \n",
      "to Thom as Edi son. I recal l that we read over one hundr ed bi ographi es of Theodore R oosevel t alone. W e were \n",
      "determined to spare no t ime, no expense, t o discover every  pract ical idea that anyone had ever used t hroughout  \n",
      "the ages for wi nning fri ends and i nfluenci ng peopl e. \n",
      " \n",
      "I personal ly interviewed scores of successful  peopl e, som e of them worl d-fam ous i nvent ors like \n",
      "Marco ni and Edison; political lead ers lik e Fran klin D. Ro osevelt an d James Farley; b usiness lead ers lik e Owen  \n",
      "D. Young;  movie stars like Clark Gabl e and M ary Pickford, and expl orers l ike Martin Johnson, and t ried to \n",
      "discover t he techni ques t hey used i n hum an rel ations. \n",
      " \n",
      "From all th is material, I p repared a short talk . I called  it “Ho w to Win Frien ds and Influence Peo ple”. I \n",
      "say “short .” It was short  in the begi nning, but  it soon e xpanded t o a lecture that consum ed one hour and t hirty \n",
      "minutes. For years, I gave this talk each season to the adults in the Carnegie Ins titute courses in New York. \n",
      " \n",
      "I gave t he talk and urged t he listeners t o go out  and t est it in  their business an d social contacts, and then \n",
      "come back t o class and speak about  their experi ences a nd the resul ts they had achi eved. W hat an interesting \n",
      "assignment! These m en and wom en, hungry  for sel f-improvem ent, were fasci nated by  the idea of worki ng in a \n",
      "new ki nd of l aborat ory—the first and onl y laborat ory of hum an rel ationshi ps for adul ts that had ever exi sted. \n",
      " \n",
      "This book wasn’t written in the usual sense of the word. It grew as a child grows. It grew and \n",
      "devel oped out  of that laborat ory, out of the experi ences of t housands of adul ts. \n",
      " \n",
      "Years ago, we started with a set of rul es printed on a card no l arger t han a post card. The next  season we \n",
      "printed a larger card, then a leaflet,  then a series of booklets, each one e xpanding in size and sc ope. After fifteen \n",
      "years of experi ment and research cam e this book. \n",
      " \n",
      "The rul es we have set  down here are not  mere theories or guesswork. They  work l ike magic. Incredi ble \n",
      "as it sounds, I have seen the application of these prin ciples literally revolutionize the lives of m any people. \n",
      " \n",
      "To illustrate: A m an with 314 em ployees joined one of  these courses. For years, he had driven and \n",
      "criticized and condem ned his em ployees without stint or discretion. Kindness, words of appreciation and \n",
      "encouragem ent were al ien to his lips. Aft er studying the principles discussed i n this book, t his employer sharpl y \n",
      "altered hi s phi losophy  of life. Hi s organi zation is now i nspired wi th a new l oyalty, a new ent husiasm, a new \n",
      "spirit of teamwork. Three hundred and fourt een enem ies have been t urned i nto 314 fri ends. As he proudl y said \n",
      "in a speech before the class: “W hen I used to walk th rough m y establishm ent, no one greeted m e. My em ployees \n",
      "actually looked t he other way  when t hey saw m e approachi ng. B ut now t hey are al l my friends and even t he \n",
      "janitor calls m e by my first n ame.” \n",
      " \n",
      "This employer gai ned m ore profi t, more leisure and—what  is infinitely more important—he found far \n",
      "more happi ness i n his busi ness and i n his hom e. \n",
      " \n",
      " 6\"\n",
      "\n",
      "\n",
      "CONCISE SUMMARY:\u001b[0m\n",
      "Prompt after formatting:\n",
      "\u001b[32;1m\u001b[1;3mWrite a concise summary of the following:\n",
      "\n",
      "\n",
      "\"Countless num bers of sal espeopl e have sharpl y increased t heir sales by the use of t hese pri nciples. \n",
      "Many have opened up new acc ounts—accounts that they had form erly so licited in vain. Executives have been \n",
      "given increased authority, increased pa y. One executive reported a large incr ease in salary because he applied \n",
      "these truths. Another, an executive in  the Philadelphia Gas W orks Company, was sl ated for dem otion when he \n",
      "was sixty-five because of his belliger ence, because of his inab ility to lead people skillfully. This training not \n",
      "only saved hi m from  the dem otion but  brought  him a prom otion wi th increased pay . \n",
      " \n",
      "On innum erable occasions, spouses attending the banquet given at the e nd of the course have told m e \n",
      "that their hom es have been m uch happi er since t heir husbands or wi ves st arted this training. \n",
      " \n",
      "People are frequently astonished at the new results th ey achieve. It all seem s like m agic. In som e cases, \n",
      "in their enthusiasm , they have te lephoned m e at m y hom e on Sundays becau se they couldn’t wait forty-eight \n",
      "hours t o report  their achi evements at the regul ar sessi on of t he course. \n",
      " \n",
      "One m an was so st irred by  a talk on these pri nciples that he sat  far i nto the night discussi ng them with \n",
      "other m embers of t he class. At  three o’cl ock i n the morning, the others went  hom e. But he was so shaken by  a \n",
      "realization of hi s own m istakes, so i nspired by  the vista of a new and ri cher worl d openi ng before hi m, that he \n",
      "was unabl e to sleep. He di dn’t sleep t hat night or the next  day or the next  night. \n",
      " \n",
      "Who was he? A nai ve, unt rained individual ready  to gush over any  new t heory that cam e along?  No, far \n",
      "from  it. He was a sophi sticated, bl asé deal er in art, very  much the man about  town, who spoke t hree languages \n",
      "fluently an d was a g raduate of two European universities. \n",
      " \n",
      "While writing this chapter, I received a letter from  a Germ an of the old school, an aristocrat whose \n",
      "forebears had served for generations as professional arm y officers under th e Hohenzollerns. His letter, written \n",
      "from  a transat lantic steamer, telling about  the appl ication of t hese pri nciples, rose al most to a rel igious fervor. \n",
      " \n",
      "Anot her m an, an ol d New Yorker, a Harvard graduat e, a weal thy man, the owner of a l arge carpet  \n",
      "factory, decl ared he had l earned m ore in fourt een weeks t hrough t his system of training about  the fine art  of \n",
      "influenci ng peopl e than he had l earned about  the sam e subject  during hi s four y ears i n college. Absurd?  \n",
      "Laughabl e? Fant astic? Of course, y ou are pri vileged t o dismiss this statement with what ever adject ive you wi sh. \n",
      "I am merely reporting, without co mment, a declaration m ade by a c onservative and em inently successful \n",
      "Harvard graduat e in a publ ic address t o approxi mately six hundred peopl e at the Yal e Club in New York on t he \n",
      "eveni ng of Thursday , February  23, 1933. \n",
      " \n",
      "“Com pared to what we ought to be ,” said the fam ous Professor W illiam  James of Harvard, “com pared \n",
      "to what  we ought  to be, we are onl y half awake. W e are m aking use of onl y a sm all part of our phy sical and \n",
      "mental resources. St ating the thing broadl y, the hum an individual thus lives far with in his lim its. He p ossesses \n",
      "powers of vari ous sort s whi ch he habi tually fails to use.” \n",
      " \n",
      "Those powers whi ch you “habi tually fail to use”! The sol e purpose of t his book i s to help you di scover, \n",
      "devel op and profi t by those dorm ant and unused asset s. \n",
      " \n",
      "“Education,” said Dr. John G. Hibben, form er presid ent of Princeton University , “is the ability to m eet \n",
      "life’s situ ations.” \n",
      " \n",
      "If by the tim e you have finished read ing the first three chapters of th is book, if you aren’t then a little \n",
      "better equi pped t o meet life’s si tuations, t hen I shal l cons ider this book t o be a t otal failure so far as y ou are \n",
      "concerned. \n",
      " \n",
      "“For t he great  aim of educat ion,” sai d Herbert  Spencer, “i s not  knowl edge but  action.” \n",
      " \n",
      "And t his is an act ion book. \n",
      " \n",
      "– Dale Carn egie \n",
      "1936 \n",
      " \n",
      " \n",
      " \n",
      " \n",
      " 7\"\n",
      "\n",
      "\n",
      "CONCISE SUMMARY:\u001b[0m\n",
      "Prompt after formatting:\n",
      "\u001b[32;1m\u001b[1;3mWrite a concise summary of the following:\n",
      "\n",
      "\n",
      "\"Nine Suggestions On How  To Get The Most Out Of This Book \n",
      " \n",
      " \n",
      "1. If you wi sh to get the most out of this book, t here is one i ndispensabl e requi rement, one essent ial infinitely \n",
      "more important than any  rule or techni que. Unl ess you have t his one fundam ental requi site, a thousand rules \n",
      "on how to study will avail little, and if you do have th is cardinal endowm ent, then you can achieve wonders \n",
      "without reading any suggestions fo r getting the m ost out of a book. \n",
      " \n",
      "What is this magic requi rement? Just this: a deep, dri ving desi re to learn, a vi gorous det ermination to \n",
      "increase yo ur ability to  deal with  people. \n",
      " \n",
      "How can you devel op such an urge?  By const antly reminding yoursel f how i mportant these pri nciples are t o \n",
      "you. Pictu re to yourself h ow their m astery will aid  you in lead ing a rich er, fu ller, h appier an d more \n",
      "fulfilling life. Say to yourself over and over: “My popul arity, m y happiness and sense of worth depend to no \n",
      "small extent upon m y skill in dealing with people.” \n",
      " \n",
      "2. Read each chapter rapidly at first to get a bird’s-eye view of it. You will probably be tem pted then to rush \n",
      "on to the next  one. B ut don’t , unless y ou are readi ng m erely for ent ertainment. But if you are readi ng \n",
      "because you want to increase your  skill in hum an relations, then go back and reread each chapter \n",
      "thoroughly. In the long run, this w ill mean saving tim e and getting results. \n",
      " \n",
      "3. Stop frequent ly in your readi ng to think over what  you are readi ng. Ask y oursel f just how and when y ou \n",
      "can apply each suggestion. \n",
      " \n",
      "4. Read wi th a cray on, penci l, pen, m agic marker or hi ghlighter in your hand. W hen you com e across a \n",
      "suggest ion that you feel  you can use, draw a l ine besi de it. If it is a four-st ar suggest ion, then underscore \n",
      "every  sentence or hi ghlight it, or m ark it with “****”. M arking and underscori ng a book m akes it more \n",
      "interestin g, and far easie r to review rapidly . \n",
      " \n",
      "5. I knew a wom an who had been offi ce m anager for a l arge insurance concern for fi fteen y ears. Every  month, \n",
      "she read all the insurance contracts her com pany had issued that m onth. Yes, she read m any of the sam e \n",
      "contracts over m onth after m onth, y ear after year. W hy? Because experi ence had taught her that that was \n",
      "the onl y way  she coul d keep t heir provi sions cl early in mind. \n",
      " \n",
      "I once spent  almost two years wri ting a book on publ ic speaki ng and y et I found I had t o keep goi ng back \n",
      "over it from  time to tim e in order to rem ember what I had written in m y own book. The rapidity with which \n",
      "we forget  is astonishing. \n",
      " \n",
      "So, if you want  to get a real , lasting benefi t out of this book, don’t  imagine that skimming through i t once \n",
      "will suffice. After reading it thoroughl y, you ought to spend a few hours re viewing it every m onth. Keep it \n",
      "on your desk i n front  of you every  day. Glance t hrough i t often. Keep const antly impressi ng yoursel f with \n",
      "the rich  possibilities fo r improvement that still lie in  the offing. Rem ember that the use of these p rinciples \n",
      "can be m ade habi tual only by a const ant and vi gorous  cam paign of revi ew and appl ication. There i s no \n",
      "other way . \n",
      " \n",
      "6. Bernard Shaw once rem arked, “If you teach a m an anything, he will never learn. ” Shaw was right. Learning \n",
      "is an act ive process. W e learn by  doing. So, i f you desi re to master the principles you are st udying in this \n",
      "book, do som ething about them . Apply these rules at every opportunity. If you don’t you will forget them  \n",
      "quickly. Onl y knowl edge t hat is used st icks in your m ind. \n",
      " \n",
      "You will probably find it difficult to apply these sugges tions all the tim e. I know because I wrote the book, \n",
      "and y et frequent ly I found i t difficult to appl y every thing I advocat ed. For exam ple, when y ou are \n",
      "displeased, it is m uch easier to criticize and condem n than it is to try to understand the other person’s \n",
      "viewpoi nt. It is frequent ly easier to find faul t than to find prai se. It  is more nat ural to talk about  what  you \n",
      "want  than to talk about  what  the other person want s and so on. So, as y ou read t his book, remember that you \n",
      "are not  merely trying to acqui re inform ation. You are at tempting to form  new habi ts. Ah y es, you are \n",
      "attem pting a new way o f life. Th at will req uire tim e and persisten ce an d daily ap plicatio n. \n",
      " \n",
      "So refer to these pages oft en. Regard t his as a worki ng handbook on hum an rel ations; and whenever y ou are \n",
      "confront ed wi th som e speci fic probl em—such as handl ing a chi ld, winning your spouse t o your way  of \n",
      " 8\"\n",
      "\n",
      "\n",
      "CONCISE SUMMARY:\u001b[0m\n",
      "\n",
      "\u001b[1m> Finished chain.\u001b[0m\n",
      "\n",
      "\n",
      "\u001b[1m> Entering new LLMChain chain...\u001b[0m\n",
      "Prompt after formatting:\n",
      "\u001b[32;1m\u001b[1;3mWrite a concise summary of the following:\n",
      "\n",
      "\n",
      "\"\n",
      "\n",
      "The author explains why he wrote this book and why it is important to read it. He has been conducting educational courses for adults in New York since 1912 and has realized the need for training in public speaking and getting along with people. He also discusses the importance of human engineering and how it can lead to financial success. The author believes that colleges should offer courses on this subject, but a survey conducted in Meriden, Connecticut showed that this is not the case. The survey also revealed that health is the top concern for adults.\n",
      "\n",
      "\n",
      "\n",
      "This book discusses the interest of adults in understanding and getting along with people, making people like them, and winning others to their way of thinking. It was written after years of research and interviews with successful people. The principles in the book have been proven to work and have transformed the lives of many. One example is a man who changed his approach to his employees and saw a positive impact on his business and personal life.\n",
      "\n",
      "\n",
      "\n",
      "This book discusses principles that have helped countless salespeople increase their sales and open new accounts. Executives have also seen benefits, such as increased authority and pay. Spouses have reported happier homes and people are often amazed by the results they achieve. The book shares stories of individuals, including a sophisticated art dealer and a wealthy Harvard graduate, who have found success through these principles. The purpose of the book is to help readers discover and utilize their dormant assets for success in life.\n",
      "\n",
      "\n",
      "\n",
      "This book provides nine suggestions for getting the most out of it. The most important requirement is a strong desire to learn and improve one's ability to deal with people. It is recommended to read each chapter thoroughly and take breaks to think about how to apply the suggestions. Marking and reviewing the book regularly can also be helpful. Learning is an active process, so it is important to apply the principles in real life situations. It may be difficult at first, but with persistence and daily application, these suggestions can become habits and lead to a better way of life.\"\n",
      "\n",
      "\n",
      "CONCISE SUMMARY:\u001b[0m\n",
      "\n",
      "\u001b[1m> Finished chain.\u001b[0m\n",
      "\n",
      "\u001b[1m> Finished chain.\u001b[0m\n",
      "\n",
      "\n",
      "The author wrote this book to address the need for training in public speaking and getting along\n",
      "with people. He discusses the importance of human engineering and how it can lead to financial\n",
      "success. The book shares proven principles that have transformed the lives of many, including\n",
      "successful salespeople, executives, and spouses. It provides nine suggestions for getting the most\n",
      "out of the book, emphasizing the importance of actively applying the principles in real life\n",
      "situations. With persistence and daily application, these suggestions can become habits and lead to\n",
      "a better way of life.\n"
     ]
    }
   ],
   "source": [
    "chain = load_summarize_chain(llm, \n",
    "                             chain_type=\"map_reduce\",\n",
    "                             verbose=True\n",
    "                             )\n",
    "\n",
    "\n",
    "output_summary = chain.run(docs[5:9])\n",
    "wrapped_text = textwrap.fill(output_summary, \n",
    "                             width=100,\n",
    "                             break_long_words=False,\n",
    "                             replace_whitespace=False)\n",
    "print(wrapped_text)"
   ]
  },
  {
   "cell_type": "markdown",
   "metadata": {},
   "source": [
    "A slight variation to the above is tested below. We try a custom prompt and we add the provision of accessing the summary of each of the individual chunk. To do this , we have to set __return_intermediate_steps__ to true, when we instantiate the chain."
   ]
  },
  {
   "cell_type": "code",
   "execution_count": 57,
   "metadata": {},
   "outputs": [
    {
     "name": "stderr",
     "output_type": "stream",
     "text": [
      "c:\\Users\\arind\\Documents\\LargeLanguageModels\\venv\\lib\\site-packages\\langchain_core\\_api\\deprecation.py:119: LangChainDeprecationWarning: The method `Chain.__call__` was deprecated in langchain 0.1.0 and will be removed in 0.3.0. Use invoke instead.\n",
      "  warn_deprecated(\n"
     ]
    },
    {
     "name": "stdout",
     "output_type": "stream",
     "text": [
      " \n",
      "\n",
      "- Author conducted educational courses for adults in New York since 1912, focusing on public\n",
      "speaking and getting along with people in business and social contacts.\n",
      "- Research shows that 15% of\n",
      "financial success is due to technical knowledge and 85% is due to skill in human engineering and\n",
      "personality.\n",
      "- John D. Rockefeller believed that the ability to deal with people is a valuable\n",
      "commodity.\n",
      "- A survey revealed that adults are interested in studying subjects related to health and\n",
      "understanding human relations.\n",
      "- The author wrote \"How to Win Friends and Influence People\" after\n",
      "conducting extensive research and interviews with successful people.\n",
      "- The book offers practical\n",
      "principles that have been proven to work like magic.\n",
      "- Examples of success include increased sales,\n",
      "promotions, and happier homes.\n",
      "- The book aims to help readers discover and utilize their dormant\n",
      "assets and handle life's situations.\n",
      "- Nine suggestions are given on how to get the most out of the\n",
      "book, including regular review and application of the principles.\n",
      "- Persistence and daily\n",
      "application are necessary for a new way of life.\n",
      "- The book should be regarded as a working handbook\n",
      "on human relations and referred to often.\n"
     ]
    }
   ],
   "source": [
    "prompt_template = \"\"\"Write a concise summary of the following:\n",
    "\n",
    "\n",
    "{text}\n",
    "\n",
    "\n",
    "CONSCISE SUMMARY IN BULLET POINTS:\"\"\"\n",
    "\n",
    "bullet_prompt = PromptTemplate(template=prompt_template, input_variables=[\"text\"])\n",
    "chain = load_summarize_chain(llm,\n",
    "                             chain_type =\"map_reduce\",\n",
    "                             return_intermediate_steps=True,\n",
    "                             map_prompt = bullet_prompt,\n",
    "                             combine_prompt = bullet_prompt)\n",
    "\n",
    "output_summary = chain({\"input_documents\":docs[5:9]}, return_only_outputs=True)\n",
    "wrapped_text = textwrap.fill(output_summary['output_text'],\n",
    "                                             width = 100,\n",
    "                                             break_long_words=False,\n",
    "                                             replace_whitespace=False)\n",
    "\n",
    "print(wrapped_text)                        \n",
    "\n"
   ]
  },
  {
   "cell_type": "markdown",
   "metadata": {},
   "source": [
    "We can access the summary of any of the intermediate chunk like this"
   ]
  },
  {
   "cell_type": "code",
   "execution_count": 59,
   "metadata": {},
   "outputs": [
    {
     "name": "stdout",
     "output_type": "stream",
     "text": [
      " \n",
      "\n",
      "- A committee conducted a survey and found that adults are interested in understanding and\n",
      "getting along with people, making people like them, and winning others to their way of thinking.\n",
      "-\n",
      "They searched for a practical textbook on the subject but could not find one.\n",
      "- The author, who had\n",
      "been searching for a practical handbook on human relations, decided to write one for use in his own\n",
      "courses.\n",
      "- He read extensively on the subject and hired a researcher to spend one and a half years\n",
      "in various libraries.\n",
      "- He also personally interviewed successful people to discover their\n",
      "techniques in human relations.\n",
      "- The book, \"How to Win Friends and Influence People,\" grew out of\n",
      "the author's lectures and experiences with thousands of adults.\n",
      "- The principles discussed in the\n",
      "book are not mere theories, but have been proven to work like magic.\n",
      "- An example is given of an\n",
      "employer who, after applying the principles, saw a positive change in his organization and gained\n",
      "more profit, leisure, and happiness.\n"
     ]
    }
   ],
   "source": [
    "wrapped_text = textwrap.fill(output_summary['intermediate_steps'][1], \n",
    "                             width=100,\n",
    "                             break_long_words=False,\n",
    "                             replace_whitespace=False)\n",
    "print(wrapped_text)"
   ]
  },
  {
   "cell_type": "markdown",
   "metadata": {},
   "source": [
    "### Stuff Summarization\n",
    "\n",
    "Stuffing is the simplest method, whereby you simply stuff all the related data into the prompt as context to pass to the language model. This is implemented in LangChain as the StuffDocumentsChain.\n",
    "\n",
    "**Pros:** Only makes a single call to the LLM. When generating text, the LLM has access to all the data at once.\n",
    "\n",
    "**Cons:** Most LLMs have a context length, and for large documents (or many documents) this will not work as it will result in a prompt larger than the context length.\n",
    "\n",
    "The main downside of this method is that **it only works one smaller pieces of data.**  Once you are working with many pieces of data, this approach is no longer feasible. The next two approaches are designed to help deal with that.\n",
    "\n"
   ]
  },
  {
   "cell_type": "code",
   "execution_count": 54,
   "metadata": {},
   "outputs": [],
   "source": [
    "chain = load_summarize_chain(llm,chain_type=\"stuff\")\n",
    "prompt_template = \"\"\"Write a concise bullet point summary of the following:\n",
    "\n",
    "{text}\n",
    "\n",
    "CONCISE SUMMARY IN BULLET POINTS:\"\"\"\n",
    "\n",
    "bullet_prompt = PromptTemplate(template=prompt_template, input_variables=[\"text\"])"
   ]
  },
  {
   "cell_type": "code",
   "execution_count": 55,
   "metadata": {},
   "outputs": [
    {
     "name": "stdout",
     "output_type": "stream",
     "text": [
      " \n",
      "- Author conducted educational courses for adults in New York since 1912 \n",
      "- Realized adults needed\n",
      "training in public speaking and getting along with people \n",
      "- Dealing with people is a big problem,\n",
      "even in technical fields \n",
      "- Research shows 15% of financial success is due to technical knowledge,\n",
      "85% is due to human engineering and personality \n",
      "- Highest-paid personnel in engineering are not\n",
      "necessarily those with the most technical knowledge \n",
      "- John D. Rockefeller valued the ability to\n",
      "deal with people and was willing to pay for it \n",
      "- Colleges do not offer practical courses on\n",
      "developing this ability \n",
      "- University of Chicago and United Y.M.C.A. Schools conducted a survey to\n",
      "determine what adults want to study \n",
      "- Survey revealed that health is the prime concern for adults\n"
     ]
    }
   ],
   "source": [
    "chain = load_summarize_chain(llm,\n",
    "                             chain_type=\"stuff\",\n",
    "                             prompt=bullet_prompt)\n",
    "\n",
    "output_summary = chain.run(docs[5:6])\n",
    "wrapped_text = textwrap.fill(output_summary, \n",
    "                             width=100,\n",
    "                             break_long_words=False,\n",
    "                             replace_whitespace=False)\n",
    "print(wrapped_text)"
   ]
  },
  {
   "cell_type": "code",
   "execution_count": 52,
   "metadata": {},
   "outputs": [
    {
     "data": {
      "text/plain": [
       "Document(page_content='How  This Book Was Written—And Why  \\n \\n \\nDuring the first thirty-five years of t he twentieth cent ury, the publ ishing houses of Am erica pri nted \\nmore than a fifth of a m illion different  books. Most of them  were deadly dull,  and m any were financial failures. \\n“Many,” did I say ? The presi dent of one of t he largest  publ ishing houses i n the worl d confessed t o me that his \\ncompany, after seventy-five years of  publishing experience, still lost m oney on seven out of every eight books it \\npublished. \\n \\nWhy, then, did I have the tem erity to write anot her book?  And, after I had written it, why should you \\nbother to read i t? \\n \\nFair quest ions, bot h; and I’l l try to answer t hem. \\n \\nI have, si nce 1912, been conduct ing educat ional cour ses for busi ness and professi onal men and wom en \\nin New York. At  first, I conduct ed courses i n publ ic speaking onl y—courses desi gned t o train adul ts, by actual \\nexperience, to think on their feet and express their ideas with m ore clarity , more effectiveness and m ore poise, \\nboth in busi ness interviews and before groups. \\n \\nBut gradual ly, as the seasons passed, I realized that as sorely  as these adults needed  train ing in effectiv e \\nspeaking, they needed still more training in the fine art of getting along with people in everyday business and \\nsocial contacts. \\n \\nI also gradual ly realized t hat I was sorel y in need  of such t raining m yself. As I l ook back across t he \\nyears, I am  appal led at my own frequent  lack of fi nesse and underst anding. How I wi sh a book such as t his had \\nbeen placed in m y hands twenty years ago!  What a priceless boon it would have been. \\n \\nDealing with people is probably the biggest problem  you face, especially  if you are in business. Yes, \\nand t hat is also true if you are a housewi fe, archi tect or engi neer. R esearch done a few y ears ago under t he \\nauspices of the Carnegie Foundation for the Advan cement of Teaching uncovered a m ost im portant and \\nsignificant fact—a fact later confirm ed by additional studies m ade at th e Carnegie Institute of Technology. \\nThese i nvest igations reveal ed that even i n such t echnical lines as engi neeri ng, about  15 percent  of one’s \\nfinancial success is due to one’s tec hnical knowledge and about 85 percent is due to skill in hum an engineering, \\nto personality an d the ability to  lead  people. \\n \\nFor m any years, I conducted course s each season at the Engineers’ Club of Philadelphia, and also \\ncourses fo r the New Yo rk Chapter of the Am erican  Institute of Electrical En gineers. A to tal of probably more \\nthan fifteen hundred engineers have passed through m y classes. They cam e to me because they had finally \\nrealized, aft er years of observat ion and experi ence, t hat the highest -paid personnel  in engi neeri ng are frequent ly \\nnot those who know the m ost about engineering. One can for exam ple, hire m ere technical ability in \\nengineeri ng, account ancy , archi tecture or any  other professi on at  nom inal salaries. B ut the person who has \\ntechnical knowledge plus the ability to express ideas, to  assum e leadership, and to arouse enthusiasm  among \\npeopl e—that person i s headed for hi gher earni ng power. \\n \\nIn the heyday of his activity, John D. Rockefeller sa id that “the ability to deal with people is as \\npurchasable a com modity as sugar or coffee.” “And I will pay m ore for that ability,” said John D., “than for any \\nother under t he sun.” \\n \\nWouldn’t you suppose t hat every  college in the land woul d conduct  courses t o devel op the highest -\\npriced ability under the sun?  But if ther e is just one practical, com monsense c ourse of that kind given for adults \\nin even one college in the lan d, it has escap ed my atten tion up to the present writin g. \\n \\nThe Uni versity of C hicago and t he Uni ted Y.M .C.A. School s conduct ed a survey  to determine what  \\nadults want  to study. \\n \\nThat survey  cost $25,000 and t ook t wo years. The l ast part of the survey  was m ade in Meriden, \\nConnect icut. It had been chosen as  a typ ical Am erican  town. Every ad ult in Merid en was in terviewed  and \\nrequest ed to answer 156 quest ions—quest ions such as “W hat is your busi ness or professi on? Your educat ion? \\nHow do you spend your spare tim e? What is your in come? Your hobbies?  Your am bitions?  Your problem s? \\nWhat subject s are y ou m ost interested in studying?” And so  on. That survey revealed that health  is th e prime \\n 5', metadata={'source': 'how-to-win-friends-and-influence-people.pdf', 'page': 5})"
      ]
     },
     "execution_count": 52,
     "metadata": {},
     "output_type": "execute_result"
    }
   ],
   "source": [
    "docs[5]"
   ]
  },
  {
   "cell_type": "code",
   "execution_count": null,
   "metadata": {},
   "outputs": [],
   "source": []
  }
 ],
 "metadata": {
  "kernelspec": {
   "display_name": "Python 3",
   "language": "python",
   "name": "python3"
  },
  "language_info": {
   "codemirror_mode": {
    "name": "ipython",
    "version": 3
   },
   "file_extension": ".py",
   "mimetype": "text/x-python",
   "name": "python",
   "nbconvert_exporter": "python",
   "pygments_lexer": "ipython3",
   "version": "3.10.0"
  }
 },
 "nbformat": 4,
 "nbformat_minor": 2
}
