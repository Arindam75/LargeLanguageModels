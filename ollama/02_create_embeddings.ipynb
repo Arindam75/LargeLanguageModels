{
 "cells": [
  {
   "cell_type": "markdown",
   "metadata": {},
   "source": [
    "In this notebook , we will create embeddings from a text file and store them in a Chroma db. For embedding , we will use the nomic-embed-text model through ollama. The model alreday exists locally."
   ]
  },
  {
   "cell_type": "code",
   "execution_count": 1,
   "metadata": {},
   "outputs": [],
   "source": [
    "import urllib.request\n",
    "import os\n",
    "\n",
    "from langchain_text_splitters import RecursiveCharacterTextSplitter\n",
    "from langchain_community.embeddings import OllamaEmbeddings\n",
    "from langchain_community.document_loaders import TextLoader\n",
    "from langchain_community.vectorstores import Chroma"
   ]
  },
  {
   "cell_type": "code",
   "execution_count": 2,
   "metadata": {},
   "outputs": [],
   "source": [
    "if not os.path.isfile('./gita.txt'):\n",
    "    print('Downloading file')\n",
    "    urllib.request.urlretrieve(\"https://www.gutenberg.org/files/2388/2388.txt\", \"gita.txt\")"
   ]
  },
  {
   "cell_type": "markdown",
   "metadata": {},
   "source": [
    "The first step to build a RAG is to build an indexer. Its takes the raw documents and does the following<br>\n",
    "\n",
    "- Splits the documents\n",
    "- Create the vector store\n",
    "- Set the store up with embeddings\n",
    "\n",
    "These are the following steps we will perform \n",
    "\n",
    "- Load the text file\n",
    "- instantiate the embedding model\n",
    "- instantiate the textsplitter"
   ]
  },
  {
   "cell_type": "code",
   "execution_count": 3,
   "metadata": {},
   "outputs": [
    {
     "name": "stdout",
     "output_type": "stream",
     "text": [
      "1\n"
     ]
    }
   ],
   "source": [
    "loader = TextLoader(\"./gita.txt\")\n",
    "documents = loader.load()\n",
    "print(len(documents))\n",
    "\n",
    "embeddings = OllamaEmbeddings(model = \"nomic-embed-text\",\n",
    "                              show_progress= True)\n",
    "\n",
    "text_splitter = RecursiveCharacterTextSplitter(chunk_size=1500,\n",
    "                                               chunk_overlap=300,\n",
    "                                               add_start_index=True)\n",
    "\n",
    "texts = text_splitter.split_documents(documents)"
   ]
  },
  {
   "cell_type": "code",
   "execution_count": 4,
   "metadata": {},
   "outputs": [
    {
     "name": "stderr",
     "output_type": "stream",
     "text": [
      "OllamaEmbeddings: 100%|██████████| 133/133 [04:51<00:00,  2.19s/it]\n",
      "c:\\Users\\arind\\Documents\\LargeLanguageModels\\venv\\lib\\site-packages\\langchain_core\\_api\\deprecation.py:119: LangChainDeprecationWarning: Since Chroma 0.4.x the manual persistence method is no longer supported as docs are automatically persisted.\n",
      "  warn_deprecated(\n"
     ]
    }
   ],
   "source": [
    "vectorstore = Chroma.from_documents(texts, embeddings, persist_directory=\"./vecdb\")\n",
    "vectorstore.persist() "
   ]
  },
  {
   "cell_type": "code",
   "execution_count": null,
   "metadata": {},
   "outputs": [],
   "source": []
  }
 ],
 "metadata": {
  "kernelspec": {
   "display_name": "Python 3 (ipykernel)",
   "language": "python",
   "name": "python3"
  },
  "language_info": {
   "codemirror_mode": {
    "name": "ipython",
    "version": 3
   },
   "file_extension": ".py",
   "mimetype": "text/x-python",
   "name": "python",
   "nbconvert_exporter": "python",
   "pygments_lexer": "ipython3",
   "version": "3.10.14"
  }
 },
 "nbformat": 4,
 "nbformat_minor": 4
}
