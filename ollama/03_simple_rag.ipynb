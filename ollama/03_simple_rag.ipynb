{
 "cells": [
  {
   "cell_type": "markdown",
   "metadata": {},
   "source": [
    "In this notebook we use the vectorstore we created in the second notebook to ask questions and get response from a Llama2 model running locally using ollama. "
   ]
  },
  {
   "cell_type": "code",
   "execution_count": 1,
   "metadata": {},
   "outputs": [],
   "source": [
    "from langchain_community.embeddings import OllamaEmbeddings\n",
    "from langchain_community.vectorstores import Chroma\n",
    "from langchain_community.chat_models import ChatOllama\n",
    "\n",
    "from langchain.prompts import ChatPromptTemplate\n",
    "from langchain.schema.runnable import RunnablePassthrough\n",
    "from langchain.schema.output_parser import StrOutputParser"
   ]
  },
  {
   "cell_type": "code",
   "execution_count": 16,
   "metadata": {},
   "outputs": [],
   "source": [
    "# # Create embeddingsclear\n",
    "embeddings = OllamaEmbeddings(model=\"nomic-embed-text\", show_progress=False)\n",
    "\n",
    "db = Chroma(persist_directory=\"./vecdb\",\n",
    "            embedding_function=embeddings)\n",
    "\n",
    "# # Create retriever\n",
    "retriever = db.as_retriever(\n",
    "    search_type=\"similarity\",\n",
    "    search_kwargs= {\"k\": 5}\n",
    ")\n",
    "\n",
    "# # Create Ollama language model - llama2\n",
    "local_llm = 'llama2'"
   ]
  },
  {
   "cell_type": "code",
   "execution_count": 17,
   "metadata": {},
   "outputs": [],
   "source": [
    "llm = ChatOllama(model=local_llm,\n",
    "                 keep_alive=\"3h\", \n",
    "                 max_tokens=1024,  \n",
    "                 temperature=0)"
   ]
  },
  {
   "cell_type": "code",
   "execution_count": 18,
   "metadata": {},
   "outputs": [],
   "source": [
    "template = \"\"\"<bos><start_of_turn>user\\nAnswer the question based only on the following context and extract out a meaningful answer. \\\n",
    "Please write in full sentences with correct spelling and punctuation. if it makes sense use lists. \\\n",
    "If the context doen't contain the answer, just respond that you are unable to find an answer. \\\n",
    "\n",
    "CONTEXT: {context}\n",
    "\n",
    "QUESTION: {question}\n",
    "\n",
    "<end_of_turn>\n",
    "<start_of_turn>model\\n\n",
    "ANSWER:\"\"\"\n",
    "\n",
    "prompt = ChatPromptTemplate.from_template(template)"
   ]
  },
  {
   "cell_type": "code",
   "execution_count": 19,
   "metadata": {},
   "outputs": [],
   "source": [
    "# Create the RAG chain using LCEL with prompt printing and streaming output\n",
    "rag_chain = (\n",
    "    {\"context\": retriever, \"question\": RunnablePassthrough()}\n",
    "    | prompt\n",
    "    | llm\n",
    ")"
   ]
  },
  {
   "cell_type": "code",
   "execution_count": 20,
   "metadata": {},
   "outputs": [],
   "source": [
    "# Function to ask questions\n",
    "def ask_question(question):\n",
    "    print(\"Answer:\\n\\n\", end=\" \", flush=True)\n",
    "    for chunk in rag_chain.stream(question):\n",
    "        print(chunk.content, end=\"\", flush=True)\n",
    "    print(\"\\n\")"
   ]
  },
  {
   "cell_type": "code",
   "execution_count": 21,
   "metadata": {},
   "outputs": [
    {
     "name": "stdout",
     "output_type": "stream",
     "text": [
      "Answer:\n",
      "\n",
      " The three gunas (qualities) mentioned in the context are:\n",
      "\n",
      "1. Sattwa - the quality of purity, clarity, and peacefulness\n",
      "2. Rajas - the quality of passion, activity, and energy\n",
      "3. Tamas - the quality of darkness, ignorance, and inertia\n",
      "\n",
      "These three gunas are considered to be the fundamental aspects of the universe and human nature, according to the Bhagavad Gita.\n",
      "\n",
      "Answer:\n",
      "\n",
      " Based on the provided context, it seems that the passage is discussing the concept of materialistic pleasure and its effects on an individual's mind and spirit. The text suggests that pursuing materialistic pleasures can lead to a state of undone purpose, mind, and man, as well as a lack of knowledge of oneself. Additionally, the passage implies that not loving or hating objects of the sense can lead to a state of tranquility and healing of earthly pains.\n",
      "\n",
      "In terms of the question you provided, it seems that the passage is warning against the dangers of pursuing materialistic pleasures, as it can lead to a state of undone purpose and a lack of knowledge of oneself. The text suggests that one should instead focus on serving their free soul and not loving or hating objects of the sense in order to achieve tranquility and healing.\n",
      "\n",
      "In summary, the passage is warning against the dangers of materialistic pleasures and suggesting that pursuing spiritual growth and self-awareness can lead to a more fulfilling and peaceful life.\n",
      "\n",
      "Answer:\n",
      "\n",
      " The steadfastness of a person is determined by their Intellect and Rajas, according to the Bhagavad Gita. Here's how it works:\n",
      "\n",
      "1. Good Intellect: The one who comprehends the nature of life and death, what must be done and what must not be done, and what should be feared and what should not be feared, is of Sattwan, Prince! or \"soothfast.\" This person has a firm mind and understands right and wrong.\n",
      "2. Marred Intellect: The one who knows right and wrong but does not act upon it, is of Rajas, Prince! or \"passionate.\" This person is stuck in their ways and lacks the ability to see things from a different perspective.\n",
      "3. Evil Intellect: The one who looks upon wrong as right and sees all things contrarywise of Truth, is of Tamas, \"dark\" and desperate. This person is consumed by their own desires and lacks any sense of moral compass.\n",
      "4. Good Steadfastness: The one who masters their beats of heart, their very breath of life, the action of their senses; fixed in never-shaken faith and piety, is of Sattwan, Prince! or \"soothfast.\" This person has a strong sense of purpose and is unwavering in their beliefs.\n",
      "5. Stained Steadfastness: The one who holds to their duty, purpose, effort, end, for life's sake, and the love of goods to gain, is of Rajas, Prince! or \"passion-stamped.\" This person is driven by their passions and lacks a sense of moral integrity.\n",
      "6. Sad Steadfastness: The one who cleaves to their sloth, sorrow, and fears, his folly and despair, is born of Tamas, \"dark\" and miserable. This person is consumed by their own negative emotions and lacks any sense of hope or purpose.\n",
      "\n",
      "In summary, the steadfastness of a person is determined by their Intellect and Rajas, with Good Intellect leading to Good Steadfastness, Marred Intellect leading to Stained Steadfastness, and Evil Intellect leading to Sad Steadfastness.\n",
      "\n",
      "Answer:\n",
      "\n",
      " Based on the provided context, it seems that the text is advocating for a life of self-governance and inner peace. The passage suggests that one should not be overly attached to happiness or sadness, but rather find balance and contentment within oneself. The text also emphasizes the importance of mastering lust and anger in order to achieve true happiness and inner peace.\n",
      "\n",
      "In light of this context, the answer to your question \"How to deal with happiness and sadness\" is:\n",
      "\n",
      "To deal with happiness and sadness, one should focus on cultivating inner peace and self-control. This can be achieved by:\n",
      "\n",
      "1. Not being overly attached to happiness or sadness, but rather finding balance and contentment within oneself.\n",
      "2. Mastering lust and anger in order to achieve true happiness and inner peace.\n",
      "3. Focusing on cultivating inner peace and self-control, rather than being swayed by external circumstances.\n",
      "\n",
      "By following these principles, one can learn to deal with happiness and sadness in a constructive and balanced manner.\n",
      "\n"
     ]
    }
   ],
   "source": [
    "while True:\n",
    "    user_question = input(\"Ask a question (or type 'quit' to exit): \")\n",
    "    if user_question.lower() == 'quit':\n",
    "        break\n",
    "    answer = ask_question(user_question)\n",
    "    # print(\"\\nFull answer received.\\n\")"
   ]
  },
  {
   "cell_type": "code",
   "execution_count": null,
   "metadata": {},
   "outputs": [],
   "source": []
  }
 ],
 "metadata": {
  "kernelspec": {
   "display_name": "Python 3 (ipykernel)",
   "language": "python",
   "name": "python3"
  },
  "language_info": {
   "codemirror_mode": {
    "name": "ipython",
    "version": 3
   },
   "file_extension": ".py",
   "mimetype": "text/x-python",
   "name": "python",
   "nbconvert_exporter": "python",
   "pygments_lexer": "ipython3",
   "version": "3.10.14"
  }
 },
 "nbformat": 4,
 "nbformat_minor": 4
}
